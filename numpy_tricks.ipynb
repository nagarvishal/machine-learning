{
  "nbformat": 4,
  "nbformat_minor": 0,
  "metadata": {
    "colab": {
      "provenance": [],
      "authorship_tag": "ABX9TyOl+LzY2J+j8JKmnMtrZAKv",
      "include_colab_link": true
    },
    "kernelspec": {
      "name": "python3",
      "display_name": "Python 3"
    },
    "language_info": {
      "name": "python"
    }
  },
  "cells": [
    {
      "cell_type": "markdown",
      "metadata": {
        "id": "view-in-github",
        "colab_type": "text"
      },
      "source": [
        "<a href=\"https://colab.research.google.com/github/nagarvishal/machine-learning/blob/main/numpy_tricks.ipynb\" target=\"_parent\"><img src=\"https://colab.research.google.com/assets/colab-badge.svg\" alt=\"Open In Colab\"/></a>"
      ]
    },
    {
      "cell_type": "code",
      "source": [
        "import numpy as np"
      ],
      "metadata": {
        "id": "QhKFmpZ2kCIz"
      },
      "execution_count": 2,
      "outputs": []
    },
    {
      "cell_type": "markdown",
      "source": [
        "# np.sort - return a sorted copy of an array"
      ],
      "metadata": {
        "id": "IXIDlVssj0Gn"
      }
    },
    {
      "cell_type": "code",
      "execution_count": 3,
      "metadata": {
        "colab": {
          "base_uri": "https://localhost:8080/"
        },
        "id": "_isNt7ECiCZU",
        "outputId": "340f0971-a5d5-40cd-bcaa-3e7e5c1b4633"
      },
      "outputs": [
        {
          "output_type": "execute_result",
          "data": {
            "text/plain": [
              "array([27, 17, 97, 86,  4, 55, 49, 33,  3, 43, 10, 64, 16, 50, 81])"
            ]
          },
          "metadata": {},
          "execution_count": 3
        }
      ],
      "source": [
        "a = np.random.randint(1,100,15)\n",
        "a"
      ]
    },
    {
      "cell_type": "code",
      "source": [
        "b = np.random.randint(1,100,24).reshape(6,4)\n",
        "b\n"
      ],
      "metadata": {
        "colab": {
          "base_uri": "https://localhost:8080/"
        },
        "id": "dWstugUhkXT4",
        "outputId": "fb3575c6-e2d8-4859-b8e8-d9b48fc793c2"
      },
      "execution_count": 4,
      "outputs": [
        {
          "output_type": "execute_result",
          "data": {
            "text/plain": [
              "array([[64, 11, 45, 60],\n",
              "       [65, 59,  8, 77],\n",
              "       [96, 23, 31, 67],\n",
              "       [87, 50, 18, 80],\n",
              "       [57, 91, 33, 41],\n",
              "       [65, 74, 39, 35]])"
            ]
          },
          "metadata": {},
          "execution_count": 4
        }
      ]
    },
    {
      "cell_type": "code",
      "source": [
        "np.sort(a)\n",
        "np.sort(b,axis=1)"
      ],
      "metadata": {
        "colab": {
          "base_uri": "https://localhost:8080/"
        },
        "id": "mzsFf4t4khOp",
        "outputId": "85e05874-1493-4067-a8a9-168cd0c13440"
      },
      "execution_count": 5,
      "outputs": [
        {
          "output_type": "execute_result",
          "data": {
            "text/plain": [
              "array([[11, 45, 60, 64],\n",
              "       [ 8, 59, 65, 77],\n",
              "       [23, 31, 67, 96],\n",
              "       [18, 50, 80, 87],\n",
              "       [33, 41, 57, 91],\n",
              "       [35, 39, 65, 74]])"
            ]
          },
          "metadata": {},
          "execution_count": 5
        }
      ]
    },
    {
      "cell_type": "markdown",
      "source": [
        "# np.append - the numpy.append() appends values along the mentioned axis at the end of the array"
      ],
      "metadata": {
        "id": "uG2I-9vvlWFZ"
      }
    },
    {
      "cell_type": "code",
      "source": [
        "a"
      ],
      "metadata": {
        "colab": {
          "base_uri": "https://localhost:8080/"
        },
        "id": "yf1wEjjWklh6",
        "outputId": "927a6b66-e239-4541-da08-693df101fa4d"
      },
      "execution_count": 6,
      "outputs": [
        {
          "output_type": "execute_result",
          "data": {
            "text/plain": [
              "array([27, 17, 97, 86,  4, 55, 49, 33,  3, 43, 10, 64, 16, 50, 81])"
            ]
          },
          "metadata": {},
          "execution_count": 6
        }
      ]
    },
    {
      "cell_type": "code",
      "source": [
        "np.append(a,200)\n",
        "np.append(a,[100,200,200])"
      ],
      "metadata": {
        "colab": {
          "base_uri": "https://localhost:8080/"
        },
        "id": "0wsl5_N6ln9i",
        "outputId": "5ed4a9a6-7772-49e1-9840-a12b870a5185"
      },
      "execution_count": 7,
      "outputs": [
        {
          "output_type": "execute_result",
          "data": {
            "text/plain": [
              "array([ 27,  17,  97,  86,   4,  55,  49,  33,   3,  43,  10,  64,  16,\n",
              "        50,  81, 100, 200, 200])"
            ]
          },
          "metadata": {},
          "execution_count": 7
        }
      ]
    },
    {
      "cell_type": "code",
      "source": [
        "b"
      ],
      "metadata": {
        "colab": {
          "base_uri": "https://localhost:8080/"
        },
        "id": "9xbgT03Flrwb",
        "outputId": "ec6065aa-7184-44b9-e9b6-c042384432fd"
      },
      "execution_count": 8,
      "outputs": [
        {
          "output_type": "execute_result",
          "data": {
            "text/plain": [
              "array([[64, 11, 45, 60],\n",
              "       [65, 59,  8, 77],\n",
              "       [96, 23, 31, 67],\n",
              "       [87, 50, 18, 80],\n",
              "       [57, 91, 33, 41],\n",
              "       [65, 74, 39, 35]])"
            ]
          },
          "metadata": {},
          "execution_count": 8
        }
      ]
    },
    {
      "cell_type": "code",
      "source": [
        "np.append(b,np.ones((b.shape[0],1)),axis=1)"
      ],
      "metadata": {
        "colab": {
          "base_uri": "https://localhost:8080/"
        },
        "id": "P3zWPQMHlzlz",
        "outputId": "17dac0ef-161a-4b3b-faee-5f4fd96d15b0"
      },
      "execution_count": 9,
      "outputs": [
        {
          "output_type": "execute_result",
          "data": {
            "text/plain": [
              "array([[64., 11., 45., 60.,  1.],\n",
              "       [65., 59.,  8., 77.,  1.],\n",
              "       [96., 23., 31., 67.,  1.],\n",
              "       [87., 50., 18., 80.,  1.],\n",
              "       [57., 91., 33., 41.,  1.],\n",
              "       [65., 74., 39., 35.,  1.]])"
            ]
          },
          "metadata": {},
          "execution_count": 9
        }
      ]
    },
    {
      "cell_type": "markdown",
      "source": [
        "# np.concatenate - numpy.concatenate() function concatenate a sequence of array along an existing axis."
      ],
      "metadata": {
        "id": "SJxa92uomjEa"
      }
    },
    {
      "cell_type": "code",
      "source": [
        "# code\n",
        "c = np.arange(6).reshape(2,3)\n",
        "d = np.arange(6,12).reshape(2,3)\n",
        "print(c)\n",
        "print(d)\n"
      ],
      "metadata": {
        "colab": {
          "base_uri": "https://localhost:8080/"
        },
        "id": "Vzp6PTSwl4GX",
        "outputId": "610618ea-e594-44ca-af04-57be007fd2cf"
      },
      "execution_count": 10,
      "outputs": [
        {
          "output_type": "stream",
          "name": "stdout",
          "text": [
            "[[0 1 2]\n",
            " [3 4 5]]\n",
            "[[ 6  7  8]\n",
            " [ 9 10 11]]\n"
          ]
        }
      ]
    },
    {
      "cell_type": "code",
      "source": [
        "np.concatenate((c,d),axis=0)\n",
        "np.concatenate((c,d),axis=1)"
      ],
      "metadata": {
        "colab": {
          "base_uri": "https://localhost:8080/"
        },
        "id": "F0ADqpCRnMHW",
        "outputId": "2b276a24-1fc8-4fed-bd71-7dff9134298e"
      },
      "execution_count": 11,
      "outputs": [
        {
          "output_type": "execute_result",
          "data": {
            "text/plain": [
              "array([[ 0,  1,  2,  6,  7,  8],\n",
              "       [ 3,  4,  5,  9, 10, 11]])"
            ]
          },
          "metadata": {},
          "execution_count": 11
        }
      ]
    },
    {
      "cell_type": "markdown",
      "source": [
        "# np.unique - we can get the unuque values from the the given array"
      ],
      "metadata": {
        "id": "UvHqeuUanktj"
      }
    },
    {
      "cell_type": "code",
      "source": [
        "e = np.array([1,2,2,2,3,3,3,3,4,4,4,5,5,5])\n",
        "f = np.array([[1,2,3,3],[1,2,2,3]])\n",
        "print(e)\n",
        "print(f)"
      ],
      "metadata": {
        "colab": {
          "base_uri": "https://localhost:8080/"
        },
        "id": "x9noFnGqnVaQ",
        "outputId": "d7491bd2-a02a-49cf-9b9d-7bc0f9dc1ff5"
      },
      "execution_count": 12,
      "outputs": [
        {
          "output_type": "stream",
          "name": "stdout",
          "text": [
            "[1 2 2 2 3 3 3 3 4 4 4 5 5 5]\n",
            "[[1 2 3 3]\n",
            " [1 2 2 3]]\n"
          ]
        }
      ]
    },
    {
      "cell_type": "code",
      "source": [
        "np.unique(e)"
      ],
      "metadata": {
        "colab": {
          "base_uri": "https://localhost:8080/"
        },
        "id": "-pPusMAEn7jJ",
        "outputId": "d7514f26-2908-464c-e51c-de23187a4375"
      },
      "execution_count": 13,
      "outputs": [
        {
          "output_type": "execute_result",
          "data": {
            "text/plain": [
              "array([1, 2, 3, 4, 5])"
            ]
          },
          "metadata": {},
          "execution_count": 13
        }
      ]
    },
    {
      "cell_type": "markdown",
      "source": [
        "# np.expand_dims - we can get the expanded dimensions of array"
      ],
      "metadata": {
        "id": "CyjtU6seoTrw"
      }
    },
    {
      "cell_type": "code",
      "source": [
        "a"
      ],
      "metadata": {
        "colab": {
          "base_uri": "https://localhost:8080/"
        },
        "id": "1oIE0AXYn-q1",
        "outputId": "869cc32e-2530-4749-ccdc-5db1439319c7"
      },
      "execution_count": 14,
      "outputs": [
        {
          "output_type": "execute_result",
          "data": {
            "text/plain": [
              "array([27, 17, 97, 86,  4, 55, 49, 33,  3, 43, 10, 64, 16, 50, 81])"
            ]
          },
          "metadata": {},
          "execution_count": 14
        }
      ]
    },
    {
      "cell_type": "code",
      "source": [
        "a1 = np.expand_dims(a,axis=0)\n",
        "a1\n",
        "a2 = np.expand_dims(a,axis=1)\n",
        "a2\n",
        "b\n",
        "b1 = np.expand_dims(b,axis=1)\n",
        "b1"
      ],
      "metadata": {
        "colab": {
          "base_uri": "https://localhost:8080/"
        },
        "id": "oqXuKYzQolYw",
        "outputId": "11b07c5c-4937-4f73-ce8d-e95460767e44"
      },
      "execution_count": 15,
      "outputs": [
        {
          "output_type": "execute_result",
          "data": {
            "text/plain": [
              "array([[[64, 11, 45, 60]],\n",
              "\n",
              "       [[65, 59,  8, 77]],\n",
              "\n",
              "       [[96, 23, 31, 67]],\n",
              "\n",
              "       [[87, 50, 18, 80]],\n",
              "\n",
              "       [[57, 91, 33, 41]],\n",
              "\n",
              "       [[65, 74, 39, 35]]])"
            ]
          },
          "metadata": {},
          "execution_count": 15
        }
      ]
    },
    {
      "cell_type": "markdown",
      "source": [
        "# np.where - The numpy.where() function return the indices of elements in an input array where given condition is satisfied."
      ],
      "metadata": {
        "id": "ITcKc50-qKb9"
      }
    },
    {
      "cell_type": "code",
      "source": [
        "a"
      ],
      "metadata": {
        "colab": {
          "base_uri": "https://localhost:8080/"
        },
        "id": "8Ee6FvaXopsK",
        "outputId": "d0b24ebb-e1af-4500-e921-bc2380d593d9"
      },
      "execution_count": 16,
      "outputs": [
        {
          "output_type": "execute_result",
          "data": {
            "text/plain": [
              "array([27, 17, 97, 86,  4, 55, 49, 33,  3, 43, 10, 64, 16, 50, 81])"
            ]
          },
          "metadata": {},
          "execution_count": 16
        }
      ]
    },
    {
      "cell_type": "code",
      "source": [
        "# find all indicies with values greater then 50\n",
        "np.where(a>50)\n"
      ],
      "metadata": {
        "colab": {
          "base_uri": "https://localhost:8080/"
        },
        "id": "TKCAWl3qqbcX",
        "outputId": "e382ea16-f763-44d6-d418-8498e2066a6d"
      },
      "execution_count": 17,
      "outputs": [
        {
          "output_type": "execute_result",
          "data": {
            "text/plain": [
              "(array([ 2,  3,  5, 11, 14]),)"
            ]
          },
          "metadata": {},
          "execution_count": 17
        }
      ]
    },
    {
      "cell_type": "code",
      "source": [
        "# Replace all values > 50 with 0\n",
        "# np.where(condition,true,false)\n",
        "np.where(a>50,0,a)"
      ],
      "metadata": {
        "colab": {
          "base_uri": "https://localhost:8080/"
        },
        "id": "3KJt39EQqn2v",
        "outputId": "ba5e9974-20eb-4863-c040-bbfbe7af4ae4"
      },
      "execution_count": 18,
      "outputs": [
        {
          "output_type": "execute_result",
          "data": {
            "text/plain": [
              "array([27, 17,  0,  0,  4,  0, 49, 33,  3, 43, 10,  0, 16, 50,  0])"
            ]
          },
          "metadata": {},
          "execution_count": 18
        }
      ]
    },
    {
      "cell_type": "code",
      "source": [
        "# find all indiecies with values even\n",
        "np.where(a%2==0)"
      ],
      "metadata": {
        "colab": {
          "base_uri": "https://localhost:8080/"
        },
        "id": "pqPfRSWmrZsg",
        "outputId": "d9778cbe-d82e-4200-f7be-b4a343fc9bcf"
      },
      "execution_count": 19,
      "outputs": [
        {
          "output_type": "execute_result",
          "data": {
            "text/plain": [
              "(array([ 3,  4, 10, 11, 12, 13]),)"
            ]
          },
          "metadata": {},
          "execution_count": 19
        }
      ]
    },
    {
      "cell_type": "code",
      "source": [
        "np.where(a%2==0,0,a)"
      ],
      "metadata": {
        "colab": {
          "base_uri": "https://localhost:8080/"
        },
        "id": "SjdYOuu2rjgo",
        "outputId": "a80a6d13-b1d1-4186-b876-83725e68d3f6"
      },
      "execution_count": 20,
      "outputs": [
        {
          "output_type": "execute_result",
          "data": {
            "text/plain": [
              "array([27, 17, 97,  0,  0, 55, 49, 33,  3, 43,  0,  0,  0,  0, 81])"
            ]
          },
          "metadata": {},
          "execution_count": 20
        }
      ]
    },
    {
      "cell_type": "markdown",
      "source": [
        "# np.argmax - return indices of the max element of array in perticular axis."
      ],
      "metadata": {
        "id": "eexMbVS1CQqf"
      }
    },
    {
      "cell_type": "code",
      "source": [
        "print(a)\n",
        "print(b)"
      ],
      "metadata": {
        "colab": {
          "base_uri": "https://localhost:8080/"
        },
        "id": "NovDqCztst11",
        "outputId": "b127dd41-143d-4eef-b860-d8f139181ef2"
      },
      "execution_count": 22,
      "outputs": [
        {
          "output_type": "stream",
          "name": "stdout",
          "text": [
            "[27 17 97 86  4 55 49 33  3 43 10 64 16 50 81]\n",
            "[[64 11 45 60]\n",
            " [65 59  8 77]\n",
            " [96 23 31 67]\n",
            " [87 50 18 80]\n",
            " [57 91 33 41]\n",
            " [65 74 39 35]]\n"
          ]
        }
      ]
    },
    {
      "cell_type": "code",
      "source": [
        "np.argmax(a)\n",
        "np.argmax(b)\n",
        "np.argmax(b,axis=0) # => axis = 0 means rows will getting changes cols are same\n",
        "np.argmax(b,axis=1) # => axis = 1 means cols will getting changes rows are same\n"
      ],
      "metadata": {
        "colab": {
          "base_uri": "https://localhost:8080/"
        },
        "id": "cQJ1wQOWCHBQ",
        "outputId": "64fe9d0a-05a0-4a8b-8dea-eaecef9e6647"
      },
      "execution_count": 30,
      "outputs": [
        {
          "output_type": "execute_result",
          "data": {
            "text/plain": [
              "array([0, 3, 0, 0, 1, 1])"
            ]
          },
          "metadata": {},
          "execution_count": 30
        }
      ]
    },
    {
      "cell_type": "markdown",
      "source": [
        "# np.argmin - return indices of the min element of array in perticular axis"
      ],
      "metadata": {
        "id": "rFRTwZfqEJpJ"
      }
    },
    {
      "cell_type": "code",
      "source": [
        "np.argmin(a)\n",
        "np.argmin(b,axis=0)\n",
        "np.argmin(b,axis=1)"
      ],
      "metadata": {
        "colab": {
          "base_uri": "https://localhost:8080/"
        },
        "id": "hzHe1FJUCG_M",
        "outputId": "5b9ee0f0-7ff9-433e-8113-85b9031835dc"
      },
      "execution_count": 33,
      "outputs": [
        {
          "output_type": "execute_result",
          "data": {
            "text/plain": [
              "array([1, 2, 1, 2, 2, 3])"
            ]
          },
          "metadata": {},
          "execution_count": 33
        }
      ]
    },
    {
      "cell_type": "markdown",
      "source": [
        "# np.cumsum - we want to compute the cumulative sum of array element over given axis."
      ],
      "metadata": {
        "id": "YA5wF61XHeez"
      }
    },
    {
      "cell_type": "code",
      "source": [
        "a"
      ],
      "metadata": {
        "colab": {
          "base_uri": "https://localhost:8080/"
        },
        "id": "8KpGBA1XCG8k",
        "outputId": "91622574-b929-4f3e-c8e6-780f2622686b"
      },
      "execution_count": 34,
      "outputs": [
        {
          "output_type": "execute_result",
          "data": {
            "text/plain": [
              "array([27, 17, 97, 86,  4, 55, 49, 33,  3, 43, 10, 64, 16, 50, 81])"
            ]
          },
          "metadata": {},
          "execution_count": 34
        }
      ]
    },
    {
      "cell_type": "code",
      "source": [
        "np.cumsum(a)\n",
        "np.cumsum(b,axis=0)\n",
        "np.cumsum(b,axis=1)\n",
        "np.cumsum(b)\n",
        "np.cumprod(a)\n",
        "np.cumprod(b,axis=0)\n",
        "np.cumprod(b,axis=1)\n"
      ],
      "metadata": {
        "colab": {
          "base_uri": "https://localhost:8080/"
        },
        "id": "hly2DkPRCG6O",
        "outputId": "97175f35-13f3-4cb3-a4d7-30058c018fc6"
      },
      "execution_count": 43,
      "outputs": [
        {
          "output_type": "execute_result",
          "data": {
            "text/plain": [
              "array([[     64,     704,   31680, 1900800],\n",
              "       [     65,    3835,   30680, 2362360],\n",
              "       [     96,    2208,   68448, 4586016],\n",
              "       [     87,    4350,   78300, 6264000],\n",
              "       [     57,    5187,  171171, 7018011],\n",
              "       [     65,    4810,  187590, 6565650]])"
            ]
          },
          "metadata": {},
          "execution_count": 43
        }
      ]
    },
    {
      "cell_type": "markdown",
      "source": [
        "# np.percentile -"
      ],
      "metadata": {
        "id": "YYic7qNNKLOk"
      }
    },
    {
      "cell_type": "code",
      "source": [
        "np.percentile(a,100)\n",
        "np.percentile(a,0)\n",
        "np.percentile(a,50)\n",
        "np.median(a)\n"
      ],
      "metadata": {
        "colab": {
          "base_uri": "https://localhost:8080/"
        },
        "id": "NoOP6DxOCG34",
        "outputId": "e5eb937f-8a3d-4444-d80f-bedd558c411f"
      },
      "execution_count": 49,
      "outputs": [
        {
          "output_type": "execute_result",
          "data": {
            "text/plain": [
              "43.0"
            ]
          },
          "metadata": {},
          "execution_count": 49
        }
      ]
    },
    {
      "cell_type": "markdown",
      "source": [
        "# np.histogram - frequency of data in graphical form."
      ],
      "metadata": {
        "id": "QFBADz2tLqCv"
      }
    },
    {
      "cell_type": "code",
      "source": [
        "a"
      ],
      "metadata": {
        "colab": {
          "base_uri": "https://localhost:8080/"
        },
        "id": "DLNM7ldQCG1T",
        "outputId": "3b0c498f-dc78-4be0-909a-4cd1cb06d867"
      },
      "execution_count": 50,
      "outputs": [
        {
          "output_type": "execute_result",
          "data": {
            "text/plain": [
              "array([27, 17, 97, 86,  4, 55, 49, 33,  3, 43, 10, 64, 16, 50, 81])"
            ]
          },
          "metadata": {},
          "execution_count": 50
        }
      ]
    },
    {
      "cell_type": "code",
      "source": [
        "np.histogram(a,bins=[0,10,20,30,40,50,60,70,80,90,100])\n",
        "np.histogram(a,bins=[0,50,100])"
      ],
      "metadata": {
        "colab": {
          "base_uri": "https://localhost:8080/"
        },
        "id": "PLLVD5ydCGwE",
        "outputId": "ff3efab5-8cde-4dd8-ccdb-305fd87981c8"
      },
      "execution_count": 53,
      "outputs": [
        {
          "output_type": "execute_result",
          "data": {
            "text/plain": [
              "(array([9, 6]), array([  0,  50, 100]))"
            ]
          },
          "metadata": {},
          "execution_count": 53
        }
      ]
    },
    {
      "cell_type": "markdown",
      "source": [
        "# np.isin - one array having values are checked in a different numpy array having different elements with different size."
      ],
      "metadata": {
        "id": "BuP0eMobQ2UX"
      }
    },
    {
      "cell_type": "code",
      "source": [
        "a"
      ],
      "metadata": {
        "colab": {
          "base_uri": "https://localhost:8080/"
        },
        "id": "RnLz5GYNCGt0",
        "outputId": "582eb863-53c7-4d83-9427-e24979882abb"
      },
      "execution_count": 54,
      "outputs": [
        {
          "output_type": "execute_result",
          "data": {
            "text/plain": [
              "array([27, 17, 97, 86,  4, 55, 49, 33,  3, 43, 10, 64, 16, 50, 81])"
            ]
          },
          "metadata": {},
          "execution_count": 54
        }
      ]
    },
    {
      "cell_type": "code",
      "source": [
        "items = [10,20,30,40,50,60,70,80,90,100]\n",
        "np.isin(a,items)"
      ],
      "metadata": {
        "colab": {
          "base_uri": "https://localhost:8080/"
        },
        "id": "s-Se6PmNROz0",
        "outputId": "2761931a-5985-4d83-cb5b-6fea9465b5f1"
      },
      "execution_count": 57,
      "outputs": [
        {
          "output_type": "execute_result",
          "data": {
            "text/plain": [
              "array([False, False, False, False, False, False, False, False, False,\n",
              "       False,  True, False, False,  True, False])"
            ]
          },
          "metadata": {},
          "execution_count": 57
        }
      ]
    },
    {
      "cell_type": "code",
      "source": [
        "a[np.isin(a,items)]"
      ],
      "metadata": {
        "colab": {
          "base_uri": "https://localhost:8080/"
        },
        "id": "6Wut0JYwRY_y",
        "outputId": "9e176f39-2ec5-47ec-967c-d27b2b63f0b5"
      },
      "execution_count": 58,
      "outputs": [
        {
          "output_type": "execute_result",
          "data": {
            "text/plain": [
              "array([10, 50])"
            ]
          },
          "metadata": {},
          "execution_count": 58
        }
      ]
    },
    {
      "cell_type": "markdown",
      "source": [
        "# np.flip() :\n",
        "the numpy.flip() function reverse the order of array elements along the specified axis. preserving the shape of the array."
      ],
      "metadata": {
        "id": "-USFHCzyRxzw"
      }
    },
    {
      "cell_type": "code",
      "source": [
        "a\n",
        "b"
      ],
      "metadata": {
        "colab": {
          "base_uri": "https://localhost:8080/"
        },
        "id": "qMXr96pfRnHC",
        "outputId": "4d248397-27fe-452e-db3c-6589f2f226bb"
      },
      "execution_count": 61,
      "outputs": [
        {
          "output_type": "execute_result",
          "data": {
            "text/plain": [
              "array([[64, 11, 45, 60],\n",
              "       [65, 59,  8, 77],\n",
              "       [96, 23, 31, 67],\n",
              "       [87, 50, 18, 80],\n",
              "       [57, 91, 33, 41],\n",
              "       [65, 74, 39, 35]])"
            ]
          },
          "metadata": {},
          "execution_count": 61
        }
      ]
    },
    {
      "cell_type": "code",
      "source": [
        "np.flip(a)"
      ],
      "metadata": {
        "colab": {
          "base_uri": "https://localhost:8080/"
        },
        "id": "YMR4gi17SM03",
        "outputId": "4e564eb7-42d2-4069-b869-0998f0c79301"
      },
      "execution_count": 60,
      "outputs": [
        {
          "output_type": "execute_result",
          "data": {
            "text/plain": [
              "array([81, 50, 16, 64, 10, 43,  3, 33, 49, 55,  4, 86, 97, 17, 27])"
            ]
          },
          "metadata": {},
          "execution_count": 60
        }
      ]
    },
    {
      "cell_type": "code",
      "source": [
        "np.flip(b)\n",
        "np.flip(b,axis=0)\n",
        "np.flip(b,axis=1)"
      ],
      "metadata": {
        "colab": {
          "base_uri": "https://localhost:8080/"
        },
        "id": "WfG-0ZGmSOSQ",
        "outputId": "1ed12008-1448-4729-e926-cd9ca9695446"
      },
      "execution_count": 64,
      "outputs": [
        {
          "output_type": "execute_result",
          "data": {
            "text/plain": [
              "array([[60, 45, 11, 64],\n",
              "       [77,  8, 59, 65],\n",
              "       [67, 31, 23, 96],\n",
              "       [80, 18, 50, 87],\n",
              "       [41, 33, 91, 57],\n",
              "       [35, 39, 74, 65]])"
            ]
          },
          "metadata": {},
          "execution_count": 64
        }
      ]
    },
    {
      "cell_type": "markdown",
      "source": [
        "# np.put -\n",
        "The numpy.put() function replace specific elements of an array with given values of p_array. Array indexes works on flattened array."
      ],
      "metadata": {
        "id": "5eL8kD83TG6b"
      }
    },
    {
      "cell_type": "code",
      "source": [
        "a"
      ],
      "metadata": {
        "colab": {
          "base_uri": "https://localhost:8080/"
        },
        "id": "dEENG4UySR8h",
        "outputId": "699f7858-1293-4874-80ce-232aeb50ca3f"
      },
      "execution_count": 65,
      "outputs": [
        {
          "output_type": "execute_result",
          "data": {
            "text/plain": [
              "array([27, 17, 97, 86,  4, 55, 49, 33,  3, 43, 10, 64, 16, 50, 81])"
            ]
          },
          "metadata": {},
          "execution_count": 65
        }
      ]
    },
    {
      "cell_type": "code",
      "source": [
        "np.put(a,[0,1],[30,20])"
      ],
      "metadata": {
        "id": "5DYyzdBQTbNo"
      },
      "execution_count": 66,
      "outputs": []
    },
    {
      "cell_type": "code",
      "source": [
        "a"
      ],
      "metadata": {
        "colab": {
          "base_uri": "https://localhost:8080/"
        },
        "id": "sg6GXWz_Thfy",
        "outputId": "a680baf7-25dd-4619-f074-4c2a5ba3af1d"
      },
      "execution_count": 67,
      "outputs": [
        {
          "output_type": "execute_result",
          "data": {
            "text/plain": [
              "array([30, 20, 97, 86,  4, 55, 49, 33,  3, 43, 10, 64, 16, 50, 81])"
            ]
          },
          "metadata": {},
          "execution_count": 67
        }
      ]
    },
    {
      "cell_type": "code",
      "source": [],
      "metadata": {
        "id": "sN_uNfnMTijX"
      },
      "execution_count": null,
      "outputs": []
    }
  ]
}