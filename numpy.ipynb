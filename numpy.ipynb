{
  "nbformat": 4,
  "nbformat_minor": 0,
  "metadata": {
    "colab": {
      "provenance": [],
      "authorship_tag": "ABX9TyPCMT+lpLWL47QAhjdKUW2x",
      "include_colab_link": true
    },
    "kernelspec": {
      "name": "python3",
      "display_name": "Python 3"
    },
    "language_info": {
      "name": "python"
    }
  },
  "cells": [
    {
      "cell_type": "markdown",
      "metadata": {
        "id": "view-in-github",
        "colab_type": "text"
      },
      "source": [
        "<a href=\"https://colab.research.google.com/github/nagarvishal/machine-learning/blob/main/numpy.ipynb\" target=\"_parent\"><img src=\"https://colab.research.google.com/assets/colab-badge.svg\" alt=\"Open In Colab\"/></a>"
      ]
    },
    {
      "cell_type": "code",
      "execution_count": 1,
      "metadata": {
        "id": "sJj1aebqq17M"
      },
      "outputs": [],
      "source": [
        "import numpy as np"
      ]
    },
    {
      "cell_type": "code",
      "source": [
        "#Create A One-D Array\n",
        "\n",
        "a = np.array([1,2,3])\n",
        "print(a,type(a))"
      ],
      "metadata": {
        "id": "56FUOVgcq7gK",
        "outputId": "42e5e43c-bf86-4834-fe7a-2c5937d2ca17",
        "colab": {
          "base_uri": "https://localhost:8080/"
        }
      },
      "execution_count": 2,
      "outputs": [
        {
          "output_type": "stream",
          "name": "stdout",
          "text": [
            "[1 2 3] <class 'numpy.ndarray'>\n"
          ]
        }
      ]
    },
    {
      "cell_type": "code",
      "source": [
        "#Create A Two-D Array\n",
        "b = np.array([[1,2,3],[4,5,6]])\n",
        "print(b,type(b))"
      ],
      "metadata": {
        "id": "WfM7UOwrrJYk",
        "outputId": "0861226f-a418-42bb-d09c-ee48088cf820",
        "colab": {
          "base_uri": "https://localhost:8080/"
        }
      },
      "execution_count": 3,
      "outputs": [
        {
          "output_type": "stream",
          "name": "stdout",
          "text": [
            "[[1 2 3]\n",
            " [4 5 6]] <class 'numpy.ndarray'>\n"
          ]
        }
      ]
    },
    {
      "cell_type": "code",
      "source": [
        "#Create A Three-D Array\n",
        "c = np.array([[[1,2,3],[4,5,6]],[[6,7,8],[9,10,11]]])\n",
        "print(c,type(c))"
      ],
      "metadata": {
        "id": "3NUI0f87qUtN",
        "outputId": "941abed5-c066-4a2f-eea9-9070ca0c6118",
        "colab": {
          "base_uri": "https://localhost:8080/"
        }
      },
      "execution_count": 4,
      "outputs": [
        {
          "output_type": "stream",
          "name": "stdout",
          "text": [
            "[[[ 1  2  3]\n",
            "  [ 4  5  6]]\n",
            "\n",
            " [[ 6  7  8]\n",
            "  [ 9 10 11]]] <class 'numpy.ndarray'>\n"
          ]
        }
      ]
    },
    {
      "cell_type": "code",
      "source": [
        "#Creating A Array of Specific dtype\n",
        "print(np.array([1,2,3],dtype=float))\n",
        "print(np.array([1,2,3],dtype=bool))\n",
        "print(np.array([1,2,3],dtype=complex))"
      ],
      "metadata": {
        "id": "iMsuHysIq7i9",
        "outputId": "296b27cc-4c9f-48e4-c392-68384eb222f5",
        "colab": {
          "base_uri": "https://localhost:8080/"
        }
      },
      "execution_count": 5,
      "outputs": [
        {
          "output_type": "stream",
          "name": "stdout",
          "text": [
            "[1. 2. 3.]\n",
            "[ True  True  True]\n",
            "[1.+0.j 2.+0.j 3.+0.j]\n"
          ]
        }
      ]
    },
    {
      "cell_type": "code",
      "source": [
        "# np.arange\n",
        "np.arange(1,11)\n",
        "np.arange(1,11,2)\n"
      ],
      "metadata": {
        "id": "FyeZP9ekruzQ",
        "outputId": "9f312035-ea7c-4390-9db5-7426dab5ebea",
        "colab": {
          "base_uri": "https://localhost:8080/"
        }
      },
      "execution_count": 6,
      "outputs": [
        {
          "output_type": "execute_result",
          "data": {
            "text/plain": [
              "array([1, 3, 5, 7, 9])"
            ]
          },
          "metadata": {},
          "execution_count": 6
        }
      ]
    },
    {
      "cell_type": "code",
      "source": [
        "# reshape of numpy array - np.arange(1,11).reshape(dim_outmost,rows,columns)\n",
        "np.arange(1,11).reshape(2,5)\n",
        "np.arange(1,13).reshape(1,4,3)"
      ],
      "metadata": {
        "id": "-9RrSmI3tJBI",
        "outputId": "a2d850b9-f96d-4740-d67e-210c29b062e0",
        "colab": {
          "base_uri": "https://localhost:8080/"
        }
      },
      "execution_count": 7,
      "outputs": [
        {
          "output_type": "execute_result",
          "data": {
            "text/plain": [
              "array([[[ 1,  2,  3],\n",
              "        [ 4,  5,  6],\n",
              "        [ 7,  8,  9],\n",
              "        [10, 11, 12]]])"
            ]
          },
          "metadata": {},
          "execution_count": 7
        }
      ]
    },
    {
      "cell_type": "code",
      "source": [
        "# np.once and np.zeros\n",
        "np.ones((3,4))"
      ],
      "metadata": {
        "id": "-LAfPdB8t6s9",
        "outputId": "9514e254-1642-4861-992c-4b67418a9a36",
        "colab": {
          "base_uri": "https://localhost:8080/"
        }
      },
      "execution_count": 8,
      "outputs": [
        {
          "output_type": "execute_result",
          "data": {
            "text/plain": [
              "array([[1., 1., 1., 1.],\n",
              "       [1., 1., 1., 1.],\n",
              "       [1., 1., 1., 1.]])"
            ]
          },
          "metadata": {},
          "execution_count": 8
        }
      ]
    },
    {
      "cell_type": "code",
      "source": [
        "np.zeros((3,4))"
      ],
      "metadata": {
        "id": "UBVN0xE4v_DM",
        "outputId": "e54fd222-7822-4cf2-f48e-e0f5e9735680",
        "colab": {
          "base_uri": "https://localhost:8080/"
        }
      },
      "execution_count": 9,
      "outputs": [
        {
          "output_type": "execute_result",
          "data": {
            "text/plain": [
              "array([[0., 0., 0., 0.],\n",
              "       [0., 0., 0., 0.],\n",
              "       [0., 0., 0., 0.]])"
            ]
          },
          "metadata": {},
          "execution_count": 9
        }
      ]
    },
    {
      "cell_type": "code",
      "source": [
        "# Generate the Random values Array - np.random\n",
        "np.random.random((3,4))"
      ],
      "metadata": {
        "id": "qhdunYIXwbm8",
        "outputId": "cffeabac-6050-4725-abfc-a245035b454a",
        "colab": {
          "base_uri": "https://localhost:8080/"
        }
      },
      "execution_count": 10,
      "outputs": [
        {
          "output_type": "execute_result",
          "data": {
            "text/plain": [
              "array([[1.69319709e-01, 8.92319152e-01, 8.54841490e-01, 8.54783295e-01],\n",
              "       [9.17361594e-01, 5.54771254e-01, 2.94969754e-01, 5.77547760e-01],\n",
              "       [2.93673409e-01, 6.42804931e-01, 3.56158381e-04, 6.04298671e-01]])"
            ]
          },
          "metadata": {},
          "execution_count": 10
        }
      ]
    },
    {
      "cell_type": "code",
      "source": [
        "# np.linspace()\n",
        "np.linspace(-10,10,10)\n",
        "# np.linspace(-10,10,10,dtype=int)"
      ],
      "metadata": {
        "id": "yqFkn_sdw6PM",
        "outputId": "73aa2179-7292-4980-9701-f61cf5aff81d",
        "colab": {
          "base_uri": "https://localhost:8080/"
        }
      },
      "execution_count": 11,
      "outputs": [
        {
          "output_type": "execute_result",
          "data": {
            "text/plain": [
              "array([-10.        ,  -7.77777778,  -5.55555556,  -3.33333333,\n",
              "        -1.11111111,   1.11111111,   3.33333333,   5.55555556,\n",
              "         7.77777778,  10.        ])"
            ]
          },
          "metadata": {},
          "execution_count": 11
        }
      ]
    },
    {
      "cell_type": "code",
      "source": [
        "# np.identity\n",
        "np.identity(3)"
      ],
      "metadata": {
        "id": "7665xFM8xYAu",
        "outputId": "7a0e1cb3-5b78-4f69-ad39-9cbca2fa4d38",
        "colab": {
          "base_uri": "https://localhost:8080/"
        }
      },
      "execution_count": 12,
      "outputs": [
        {
          "output_type": "execute_result",
          "data": {
            "text/plain": [
              "array([[1., 0., 0.],\n",
              "       [0., 1., 0.],\n",
              "       [0., 0., 1.]])"
            ]
          },
          "metadata": {},
          "execution_count": 12
        }
      ]
    },
    {
      "cell_type": "markdown",
      "source": [
        "Array Attributes"
      ],
      "metadata": {
        "id": "c54lQA1d8Lrt"
      }
    },
    {
      "cell_type": "code",
      "source": [
        "# Array Attributes\n",
        "a1 = np.arange(10,dtype=np.int32)\n",
        "a2 = np.arange(12,dtype=float).reshape(3,4)\n",
        "a3 = np.arange(8).reshape(2,2,2)"
      ],
      "metadata": {
        "id": "lAsU0gy-x8av"
      },
      "execution_count": 13,
      "outputs": []
    },
    {
      "cell_type": "code",
      "source": [
        "# ndim - get the dimentions of numpy array\n",
        "a1.ndim\n",
        "a2.ndim\n",
        "a3.ndim"
      ],
      "metadata": {
        "id": "4OGLSe2S8jv-",
        "outputId": "32ded409-3534-4ca0-985d-4fd844000593",
        "colab": {
          "base_uri": "https://localhost:8080/"
        }
      },
      "execution_count": 14,
      "outputs": [
        {
          "output_type": "execute_result",
          "data": {
            "text/plain": [
              "3"
            ]
          },
          "metadata": {},
          "execution_count": 14
        }
      ]
    },
    {
      "cell_type": "code",
      "source": [
        "# shape - get the shape of numpy array\n",
        "a1.shape\n",
        "a2.shape\n",
        "a3.shape"
      ],
      "metadata": {
        "id": "0BgU03df9fMd",
        "outputId": "0695b0bc-21dc-4332-9c21-491fa81362ac",
        "colab": {
          "base_uri": "https://localhost:8080/"
        }
      },
      "execution_count": 15,
      "outputs": [
        {
          "output_type": "execute_result",
          "data": {
            "text/plain": [
              "(2, 2, 2)"
            ]
          },
          "metadata": {},
          "execution_count": 15
        }
      ]
    },
    {
      "cell_type": "code",
      "source": [
        "# size -  get the number of items in numpy array\n",
        "a1.size\n",
        "a2.size\n",
        "a3.size"
      ],
      "metadata": {
        "id": "cuAwRiWt96Sq",
        "outputId": "33df4dfa-7f72-4488-baf4-d5a9b0fd01d2",
        "colab": {
          "base_uri": "https://localhost:8080/"
        }
      },
      "execution_count": 16,
      "outputs": [
        {
          "output_type": "execute_result",
          "data": {
            "text/plain": [
              "8"
            ]
          },
          "metadata": {},
          "execution_count": 16
        }
      ]
    },
    {
      "cell_type": "code",
      "source": [
        "# itemsize - get the size of numpy array element\n",
        "a1.itemsize\n",
        "a2.itemsize\n",
        "a3.itemsize"
      ],
      "metadata": {
        "id": "DR3Op8Co-iaG",
        "outputId": "c9af9d48-4f48-4501-cedf-cff5e3013b1f",
        "colab": {
          "base_uri": "https://localhost:8080/"
        }
      },
      "execution_count": 17,
      "outputs": [
        {
          "output_type": "execute_result",
          "data": {
            "text/plain": [
              "8"
            ]
          },
          "metadata": {},
          "execution_count": 17
        }
      ]
    },
    {
      "cell_type": "code",
      "source": [
        "# dtype - get the datatype of out numpy array element\n",
        "a1.dtype\n",
        "a2.dtype\n",
        "a3.dtype"
      ],
      "metadata": {
        "id": "oFSYCpfn-_mT",
        "outputId": "fa0317e3-92c2-403b-fb5a-c9342570e8ef",
        "colab": {
          "base_uri": "https://localhost:8080/"
        }
      },
      "execution_count": 18,
      "outputs": [
        {
          "output_type": "execute_result",
          "data": {
            "text/plain": [
              "dtype('int64')"
            ]
          },
          "metadata": {},
          "execution_count": 18
        }
      ]
    },
    {
      "cell_type": "markdown",
      "source": [
        "Changing DateType"
      ],
      "metadata": {
        "id": "Xj0x1OudCmt-"
      }
    },
    {
      "cell_type": "code",
      "source": [
        "# astype - Changing datatype of the numpy array\n",
        "a4 = a3.astype(np.int32)\n",
        "a4.dtype"
      ],
      "metadata": {
        "id": "rk4lRlMy_-oP",
        "outputId": "60b344a6-7f91-4e46-b31e-e2ab4eef398a",
        "colab": {
          "base_uri": "https://localhost:8080/"
        }
      },
      "execution_count": 19,
      "outputs": [
        {
          "output_type": "execute_result",
          "data": {
            "text/plain": [
              "dtype('int32')"
            ]
          },
          "metadata": {},
          "execution_count": 19
        }
      ]
    },
    {
      "cell_type": "markdown",
      "source": [
        "Array Operations"
      ],
      "metadata": {
        "id": "FLA-yayTUFxg"
      }
    },
    {
      "cell_type": "code",
      "source": [
        "a1 = np.arange(12).reshape(3,4)\n",
        "a2 = np.arange(12,24).reshape(3,4)\n",
        "a1"
      ],
      "metadata": {
        "id": "1y8Oy6IzUEva",
        "outputId": "ca028477-ff2f-4b4e-c25d-cf36be564152",
        "colab": {
          "base_uri": "https://localhost:8080/"
        }
      },
      "execution_count": 20,
      "outputs": [
        {
          "output_type": "execute_result",
          "data": {
            "text/plain": [
              "array([[ 0,  1,  2,  3],\n",
              "       [ 4,  5,  6,  7],\n",
              "       [ 8,  9, 10, 11]])"
            ]
          },
          "metadata": {},
          "execution_count": 20
        }
      ]
    },
    {
      "cell_type": "code",
      "source": [
        "# Scalar Operations\n",
        "\n",
        "#Airthmatic Operation\n",
        "a1 * 2\n",
        "a1 + 2\n",
        "a1 - 2\n",
        "a1 / 2\n",
        "a1 ** 2\n",
        "a1 % 2\n",
        "a1 // 2"
      ],
      "metadata": {
        "id": "Sog6Yy7-Dl1f",
        "outputId": "78e26d47-48eb-42a7-a87a-62361026f924",
        "colab": {
          "base_uri": "https://localhost:8080/"
        }
      },
      "execution_count": 21,
      "outputs": [
        {
          "output_type": "execute_result",
          "data": {
            "text/plain": [
              "array([[0, 0, 1, 1],\n",
              "       [2, 2, 3, 3],\n",
              "       [4, 4, 5, 5]])"
            ]
          },
          "metadata": {},
          "execution_count": 21
        }
      ]
    },
    {
      "cell_type": "code",
      "source": [
        "#Relational Operation\n",
        "a2 > 5\n",
        "a2 < 5\n",
        "a2 >= 5\n",
        "a2 <= 5\n",
        "a2 == 5\n",
        "a2 != 5\n"
      ],
      "metadata": {
        "id": "IV5WhelmIg7B",
        "outputId": "02793458-92ec-4c2e-ae8c-6fae07eff958",
        "colab": {
          "base_uri": "https://localhost:8080/"
        }
      },
      "execution_count": 22,
      "outputs": [
        {
          "output_type": "execute_result",
          "data": {
            "text/plain": [
              "array([[ True,  True,  True,  True],\n",
              "       [ True,  True,  True,  True],\n",
              "       [ True,  True,  True,  True]])"
            ]
          },
          "metadata": {},
          "execution_count": 22
        }
      ]
    },
    {
      "cell_type": "code",
      "source": [
        "# Vector Operations\n",
        "\n",
        "# Airthmatic Operations\n",
        "a1 + a2\n",
        "a1 - a2\n",
        "a1 * a2\n",
        "a1 / a2\n",
        "a1 // a2\n",
        "a1 % a2"
      ],
      "metadata": {
        "id": "kUA_1HR9Ig2V",
        "outputId": "ea6cbe7a-885a-4a13-b825-6d876f9957af",
        "colab": {
          "base_uri": "https://localhost:8080/"
        }
      },
      "execution_count": 23,
      "outputs": [
        {
          "output_type": "execute_result",
          "data": {
            "text/plain": [
              "array([[ 0,  1,  2,  3],\n",
              "       [ 4,  5,  6,  7],\n",
              "       [ 8,  9, 10, 11]])"
            ]
          },
          "metadata": {},
          "execution_count": 23
        }
      ]
    },
    {
      "cell_type": "code",
      "source": [],
      "metadata": {
        "id": "VgjlF5_2Igze"
      },
      "execution_count": 23,
      "outputs": []
    },
    {
      "cell_type": "markdown",
      "source": [
        "Array Functions"
      ],
      "metadata": {
        "id": "Ax3Aw6cYbFvL"
      }
    },
    {
      "cell_type": "code",
      "source": [
        "a1 = np.random.random((3,3))\n",
        "a1 = np.round(a1*100)\n",
        "a1"
      ],
      "metadata": {
        "id": "AhCVEDDNIgqX",
        "outputId": "8f147e74-552c-482d-9c66-3e57b181380a",
        "colab": {
          "base_uri": "https://localhost:8080/"
        }
      },
      "execution_count": 24,
      "outputs": [
        {
          "output_type": "execute_result",
          "data": {
            "text/plain": [
              "array([[20., 36., 41.],\n",
              "       [48., 41., 13.],\n",
              "       [36., 95., 73.]])"
            ]
          },
          "metadata": {},
          "execution_count": 24
        }
      ]
    },
    {
      "cell_type": "code",
      "source": [
        "# max,min,sum,prod -> 0=> col,1=>row\n",
        "np.max(a1)\n",
        "np.min(a1)\n",
        "np.sum(a1)\n",
        "np.prod(a1)\n",
        "np.max(a1,axis=0)\n",
        "np.max(a1,axis=1)\n",
        "np.min(a1,axis=0)\n",
        "np.min(a1,axis=1)\n",
        "np.sum(a1,axis=0)\n",
        "np.sum(a1,axis=1)\n",
        "np.prod(a1,axis=0)\n",
        "np.prod(a1,axis=1)\n"
      ],
      "metadata": {
        "id": "5iIykbO0Ige7",
        "outputId": "b11821d5-effc-4ba1-e421-ff71e2ec34c0",
        "colab": {
          "base_uri": "https://localhost:8080/"
        }
      },
      "execution_count": 25,
      "outputs": [
        {
          "output_type": "execute_result",
          "data": {
            "text/plain": [
              "array([ 29520.,  25584., 249660.])"
            ]
          },
          "metadata": {},
          "execution_count": 25
        }
      ]
    },
    {
      "cell_type": "code",
      "source": [
        "# mean,median,std,var\n",
        "np.mean(a1)\n",
        "np.median(a1)\n",
        "np.std(a1)\n",
        "np.var(a1)\n",
        "np.mean(a1,axis=0)\n",
        "np.mean(a1,axis=1)\n",
        "np.median(a1,axis=0)\n",
        "np.median(a1,axis=1)\n",
        "np.std(a1,axis=0)\n",
        "np.std(a1,axis=1)\n",
        "np.var(a1,axis=0)\n",
        "np.var(a1,axis=1)"
      ],
      "metadata": {
        "id": "V3AgWNZgb_tZ",
        "outputId": "a84d4a88-9723-46c4-a22d-2fffbc92e29f",
        "colab": {
          "base_uri": "https://localhost:8080/"
        }
      },
      "execution_count": 26,
      "outputs": [
        {
          "output_type": "execute_result",
          "data": {
            "text/plain": [
              "array([ 80.22222222, 228.66666667, 592.66666667])"
            ]
          },
          "metadata": {},
          "execution_count": 26
        }
      ]
    },
    {
      "cell_type": "markdown",
      "source": [
        "Trigonometric Functions"
      ],
      "metadata": {
        "id": "B5QFDkemeSEq"
      }
    },
    {
      "cell_type": "code",
      "source": [
        "#Trigonometric Functions\n",
        "np.sin(a1)\n",
        "np.cos(a1)\n",
        "np.tan(a1)"
      ],
      "metadata": {
        "id": "DcDLpyePdbYZ",
        "outputId": "b5fb62f3-d50c-489f-fcff-9c76d27ae6b8",
        "colab": {
          "base_uri": "https://localhost:8080/"
        }
      },
      "execution_count": 27,
      "outputs": [
        {
          "output_type": "execute_result",
          "data": {
            "text/plain": [
              "array([[2.23716094, 7.75047091, 0.1606567 ],\n",
              "       [1.20012724, 0.1606567 , 0.46302113],\n",
              "       [7.75047091, 0.93575247, 0.9192864 ]])"
            ]
          },
          "metadata": {},
          "execution_count": 27
        }
      ]
    },
    {
      "cell_type": "markdown",
      "source": [
        "DOT Product"
      ],
      "metadata": {
        "id": "9Qt_DzJpfkbm"
      }
    },
    {
      "cell_type": "code",
      "source": [
        "# DOT Product\n",
        "a2 = np.arange(12).reshape(3,4)\n",
        "a3 = np.arange(12,24).reshape(4,3)\n",
        "\n",
        "np.dot(a3,a2)"
      ],
      "metadata": {
        "id": "4P1Xlez_fOvE",
        "outputId": "4c639dc6-b04a-43d1-a9a3-afcbaf6132c2",
        "colab": {
          "base_uri": "https://localhost:8080/"
        }
      },
      "execution_count": 28,
      "outputs": [
        {
          "output_type": "execute_result",
          "data": {
            "text/plain": [
              "array([[164, 203, 242, 281],\n",
              "       [200, 248, 296, 344],\n",
              "       [236, 293, 350, 407],\n",
              "       [272, 338, 404, 470]])"
            ]
          },
          "metadata": {},
          "execution_count": 28
        }
      ]
    },
    {
      "cell_type": "code",
      "source": [
        "# Log and Exponents\n",
        "np.log(a1)\n",
        "np.exp(a1)"
      ],
      "metadata": {
        "id": "P9mmSr-lfuw6",
        "outputId": "981b8687-8edc-4f72-aedc-4663a84a7e00",
        "colab": {
          "base_uri": "https://localhost:8080/"
        }
      },
      "execution_count": 29,
      "outputs": [
        {
          "output_type": "execute_result",
          "data": {
            "text/plain": [
              "array([[4.85165195e+08, 4.31123155e+15, 6.39843494e+17],\n",
              "       [7.01673591e+20, 6.39843494e+17, 4.42413392e+05],\n",
              "       [4.31123155e+15, 1.81123908e+41, 5.05239363e+31]])"
            ]
          },
          "metadata": {},
          "execution_count": 29
        }
      ]
    },
    {
      "cell_type": "code",
      "source": [
        "# Rount,Floor,Ceil\n",
        "np.round(np.random.random((2,3))*100)\n",
        "np.floor(np.random.random((2,3))*100)\n",
        "np.ceil(np.random.random((2,3))*100)"
      ],
      "metadata": {
        "id": "6x4bGnG8g8sm",
        "outputId": "856ca518-d2e1-4cb7-e504-f99bb153a340",
        "colab": {
          "base_uri": "https://localhost:8080/"
        }
      },
      "execution_count": 30,
      "outputs": [
        {
          "output_type": "execute_result",
          "data": {
            "text/plain": [
              "array([[24., 52.,  1.],\n",
              "       [89., 20., 61.]])"
            ]
          },
          "metadata": {},
          "execution_count": 30
        }
      ]
    },
    {
      "cell_type": "markdown",
      "source": [
        "Indexing And Slicing"
      ],
      "metadata": {
        "id": "-w25x639uFAe"
      }
    },
    {
      "cell_type": "code",
      "source": [
        "# Indexing and Slicing\n",
        "a1 = np.arange(10)\n",
        "a2 = np.arange(12).reshape(3,4)\n",
        "a3 = np.arange(8).reshape(2,2,2)\n",
        "print(a1)\n",
        "print(a2)\n",
        "print(a3)"
      ],
      "metadata": {
        "id": "IfIpmTLchgPc",
        "outputId": "3420cb33-3870-4e1a-e63a-3c4c48913779",
        "colab": {
          "base_uri": "https://localhost:8080/"
        }
      },
      "execution_count": 53,
      "outputs": [
        {
          "output_type": "stream",
          "name": "stdout",
          "text": [
            "[0 1 2 3 4 5 6 7 8 9]\n",
            "[[ 0  1  2  3]\n",
            " [ 4  5  6  7]\n",
            " [ 8  9 10 11]]\n",
            "[[[0 1]\n",
            "  [2 3]]\n",
            "\n",
            " [[4 5]\n",
            "  [6 7]]]\n"
          ]
        }
      ]
    },
    {
      "cell_type": "code",
      "source": [
        "#Indexing\n",
        "print(a1[-1],a1[0])\n",
        "print(a2[1,2],a2[2,3],a2[1,0])\n",
        "print(a3[1,0,1],a3[0,0,0],a3[1,1,1])"
      ],
      "metadata": {
        "id": "GA1G9dmRhuIR",
        "outputId": "c7ccd28d-5db8-4de7-e1aa-14a2303fd824",
        "colab": {
          "base_uri": "https://localhost:8080/"
        }
      },
      "execution_count": 56,
      "outputs": [
        {
          "output_type": "stream",
          "name": "stdout",
          "text": [
            "9 0\n",
            "6 11 4\n",
            "5 0 7\n"
          ]
        }
      ]
    },
    {
      "cell_type": "code",
      "source": [
        "#Slicing\n",
        "a1\n",
        "a1[2:5]\n",
        "a1[2:5:2]"
      ],
      "metadata": {
        "id": "oKNr6fPRu34M",
        "outputId": "d9ab1ae5-d093-4363-83c5-49f92beabcd6",
        "colab": {
          "base_uri": "https://localhost:8080/"
        }
      },
      "execution_count": 62,
      "outputs": [
        {
          "output_type": "execute_result",
          "data": {
            "text/plain": [
              "array([2, 4])"
            ]
          },
          "metadata": {},
          "execution_count": 62
        }
      ]
    },
    {
      "cell_type": "code",
      "source": [
        "a2"
      ],
      "metadata": {
        "id": "4nB_LlW6u31l",
        "outputId": "63e36d90-9415-454d-8b5b-9b5ed89c5305",
        "colab": {
          "base_uri": "https://localhost:8080/"
        }
      },
      "execution_count": 63,
      "outputs": [
        {
          "output_type": "execute_result",
          "data": {
            "text/plain": [
              "array([[ 0,  1,  2,  3],\n",
              "       [ 4,  5,  6,  7],\n",
              "       [ 8,  9, 10, 11]])"
            ]
          },
          "metadata": {},
          "execution_count": 63
        }
      ]
    },
    {
      "cell_type": "code",
      "source": [
        "print(a2[0,:])\n",
        "print(a2[:,2])\n",
        "print(a2[1:,1:3]);\n",
        "print(a2[::2,::3])\n",
        "print(a2[::2,1::2])\n",
        "print(a2[1,::3])\n",
        "print(a2[0:2,1:])"
      ],
      "metadata": {
        "id": "1O9d8Xrgu3zT",
        "outputId": "fe8dbf24-b3ff-4a15-9586-09ae9bbfb8df",
        "colab": {
          "base_uri": "https://localhost:8080/"
        }
      },
      "execution_count": 73,
      "outputs": [
        {
          "output_type": "stream",
          "name": "stdout",
          "text": [
            "[0 1 2 3]\n",
            "[ 2  6 10]\n",
            "[[ 5  6]\n",
            " [ 9 10]]\n",
            "[[ 0  3]\n",
            " [ 8 11]]\n",
            "[[ 1  3]\n",
            " [ 9 11]]\n",
            "[4 7]\n",
            "[[1 2 3]\n",
            " [5 6 7]]\n"
          ]
        }
      ]
    },
    {
      "cell_type": "code",
      "source": [
        "a3 = np.arange(27).reshape(3,3,3)\n",
        "a3"
      ],
      "metadata": {
        "id": "XajBs93su3sv",
        "outputId": "3128b143-0f84-43e2-80f7-5b42783b4cfd",
        "colab": {
          "base_uri": "https://localhost:8080/"
        }
      },
      "execution_count": 76,
      "outputs": [
        {
          "output_type": "execute_result",
          "data": {
            "text/plain": [
              "array([[[ 0,  1,  2],\n",
              "        [ 3,  4,  5],\n",
              "        [ 6,  7,  8]],\n",
              "\n",
              "       [[ 9, 10, 11],\n",
              "        [12, 13, 14],\n",
              "        [15, 16, 17]],\n",
              "\n",
              "       [[18, 19, 20],\n",
              "        [21, 22, 23],\n",
              "        [24, 25, 26]]])"
            ]
          },
          "metadata": {},
          "execution_count": 76
        }
      ]
    },
    {
      "cell_type": "code",
      "source": [
        "a3[1,:,:]\n",
        "a3[2,1,0:]\n",
        "a3[0:,0:,2:]\n",
        "a3[0::2]\n",
        "a3[0,1,:]\n",
        "a3[1,:,1]\n",
        "a3[2,1:,1:]\n",
        "a3[0::2,0,0::2]"
      ],
      "metadata": {
        "id": "_SCjK8QQu3pr",
        "outputId": "c656b5b4-3779-41fd-9118-aca5e2207336",
        "colab": {
          "base_uri": "https://localhost:8080/"
        }
      },
      "execution_count": 90,
      "outputs": [
        {
          "output_type": "execute_result",
          "data": {
            "text/plain": [
              "array([[ 0,  2],\n",
              "       [18, 20]])"
            ]
          },
          "metadata": {},
          "execution_count": 90
        }
      ]
    },
    {
      "cell_type": "code",
      "source": [],
      "metadata": {
        "id": "G16dC8ee56yz"
      },
      "execution_count": null,
      "outputs": []
    }
  ]
}