{
  "nbformat": 4,
  "nbformat_minor": 0,
  "metadata": {
    "colab": {
      "provenance": [],
      "authorship_tag": "ABX9TyMPJg79XoC+wBmAWMvg0j0B",
      "include_colab_link": true
    },
    "kernelspec": {
      "name": "python3",
      "display_name": "Python 3"
    },
    "language_info": {
      "name": "python"
    }
  },
  "cells": [
    {
      "cell_type": "markdown",
      "metadata": {
        "id": "view-in-github",
        "colab_type": "text"
      },
      "source": [
        "<a href=\"https://colab.research.google.com/github/nagarvishal/machine-learning/blob/main/numpy_tricks.ipynb\" target=\"_parent\"><img src=\"https://colab.research.google.com/assets/colab-badge.svg\" alt=\"Open In Colab\"/></a>"
      ]
    },
    {
      "cell_type": "code",
      "source": [
        "import numpy as np"
      ],
      "metadata": {
        "id": "QhKFmpZ2kCIz"
      },
      "execution_count": 1,
      "outputs": []
    },
    {
      "cell_type": "markdown",
      "source": [
        "# np.sort - return a sorted copy of an array"
      ],
      "metadata": {
        "id": "IXIDlVssj0Gn"
      }
    },
    {
      "cell_type": "code",
      "execution_count": 2,
      "metadata": {
        "colab": {
          "base_uri": "https://localhost:8080/"
        },
        "id": "_isNt7ECiCZU",
        "outputId": "9aa9181a-9cbb-484a-afcb-33655f34ee12"
      },
      "outputs": [
        {
          "output_type": "execute_result",
          "data": {
            "text/plain": [
              "array([ 9, 19, 81, 37, 75, 81, 70,  4, 55, 90,  4, 67, 78, 50, 97])"
            ]
          },
          "metadata": {},
          "execution_count": 2
        }
      ],
      "source": [
        "a = np.random.randint(1,100,15)\n",
        "a"
      ]
    },
    {
      "cell_type": "code",
      "source": [
        "b = np.random.randint(1,100,24).reshape(6,4)\n",
        "b\n"
      ],
      "metadata": {
        "colab": {
          "base_uri": "https://localhost:8080/"
        },
        "id": "dWstugUhkXT4",
        "outputId": "336708ed-e6c9-4c08-bb8b-18abe3ec65f8"
      },
      "execution_count": 3,
      "outputs": [
        {
          "output_type": "execute_result",
          "data": {
            "text/plain": [
              "array([[57, 47, 12, 24],\n",
              "       [43, 87, 15,  4],\n",
              "       [56, 91, 35, 46],\n",
              "       [ 4, 11, 40, 61],\n",
              "       [70, 62, 82, 53],\n",
              "       [21, 66, 23, 82]])"
            ]
          },
          "metadata": {},
          "execution_count": 3
        }
      ]
    },
    {
      "cell_type": "code",
      "source": [
        "np.sort(a)\n",
        "np.sort(b,axis=1)"
      ],
      "metadata": {
        "colab": {
          "base_uri": "https://localhost:8080/"
        },
        "id": "mzsFf4t4khOp",
        "outputId": "b76e8eeb-4b28-4b7e-ef5e-4f8fabaafbed"
      },
      "execution_count": 4,
      "outputs": [
        {
          "output_type": "execute_result",
          "data": {
            "text/plain": [
              "array([[12, 24, 47, 57],\n",
              "       [ 4, 15, 43, 87],\n",
              "       [35, 46, 56, 91],\n",
              "       [ 4, 11, 40, 61],\n",
              "       [53, 62, 70, 82],\n",
              "       [21, 23, 66, 82]])"
            ]
          },
          "metadata": {},
          "execution_count": 4
        }
      ]
    },
    {
      "cell_type": "markdown",
      "source": [
        "# np.append - the numpy.append() appends values along the mentioned axis at the end of the array"
      ],
      "metadata": {
        "id": "uG2I-9vvlWFZ"
      }
    },
    {
      "cell_type": "code",
      "source": [
        "a"
      ],
      "metadata": {
        "colab": {
          "base_uri": "https://localhost:8080/"
        },
        "id": "yf1wEjjWklh6",
        "outputId": "734ad694-3109-485a-c730-ff341a55e430"
      },
      "execution_count": 5,
      "outputs": [
        {
          "output_type": "execute_result",
          "data": {
            "text/plain": [
              "array([ 9, 19, 81, 37, 75, 81, 70,  4, 55, 90,  4, 67, 78, 50, 97])"
            ]
          },
          "metadata": {},
          "execution_count": 5
        }
      ]
    },
    {
      "cell_type": "code",
      "source": [
        "np.append(a,200)\n",
        "np.append(a,[100,200,200])"
      ],
      "metadata": {
        "colab": {
          "base_uri": "https://localhost:8080/"
        },
        "id": "0wsl5_N6ln9i",
        "outputId": "5e81ffe0-3708-447d-844f-7be0b1ea4fc7"
      },
      "execution_count": 6,
      "outputs": [
        {
          "output_type": "execute_result",
          "data": {
            "text/plain": [
              "array([  9,  19,  81,  37,  75,  81,  70,   4,  55,  90,   4,  67,  78,\n",
              "        50,  97, 100, 200, 200])"
            ]
          },
          "metadata": {},
          "execution_count": 6
        }
      ]
    },
    {
      "cell_type": "code",
      "source": [
        "b"
      ],
      "metadata": {
        "colab": {
          "base_uri": "https://localhost:8080/"
        },
        "id": "9xbgT03Flrwb",
        "outputId": "f66981bb-b579-4ee7-c083-779762df206e"
      },
      "execution_count": 7,
      "outputs": [
        {
          "output_type": "execute_result",
          "data": {
            "text/plain": [
              "array([[57, 47, 12, 24],\n",
              "       [43, 87, 15,  4],\n",
              "       [56, 91, 35, 46],\n",
              "       [ 4, 11, 40, 61],\n",
              "       [70, 62, 82, 53],\n",
              "       [21, 66, 23, 82]])"
            ]
          },
          "metadata": {},
          "execution_count": 7
        }
      ]
    },
    {
      "cell_type": "code",
      "source": [
        "np.append(b,np.ones((b.shape[0],1)),axis=1)"
      ],
      "metadata": {
        "colab": {
          "base_uri": "https://localhost:8080/"
        },
        "id": "P3zWPQMHlzlz",
        "outputId": "98865858-8d3b-417a-a5b2-d0267be3ce05"
      },
      "execution_count": 8,
      "outputs": [
        {
          "output_type": "execute_result",
          "data": {
            "text/plain": [
              "array([[57., 47., 12., 24.,  1.],\n",
              "       [43., 87., 15.,  4.,  1.],\n",
              "       [56., 91., 35., 46.,  1.],\n",
              "       [ 4., 11., 40., 61.,  1.],\n",
              "       [70., 62., 82., 53.,  1.],\n",
              "       [21., 66., 23., 82.,  1.]])"
            ]
          },
          "metadata": {},
          "execution_count": 8
        }
      ]
    },
    {
      "cell_type": "markdown",
      "source": [
        "# np.concatenate - numpy.concatenate() function concatenate a sequence of array along an existing axis."
      ],
      "metadata": {
        "id": "SJxa92uomjEa"
      }
    },
    {
      "cell_type": "code",
      "source": [
        "# code\n",
        "c = np.arange(6).reshape(2,3)\n",
        "d = np.arange(6,12).reshape(2,3)\n",
        "print(c)\n",
        "print(d)\n"
      ],
      "metadata": {
        "colab": {
          "base_uri": "https://localhost:8080/"
        },
        "id": "Vzp6PTSwl4GX",
        "outputId": "ef1b08fd-ca1a-4df4-9059-2b79b6f1f929"
      },
      "execution_count": 9,
      "outputs": [
        {
          "output_type": "stream",
          "name": "stdout",
          "text": [
            "[[0 1 2]\n",
            " [3 4 5]]\n",
            "[[ 6  7  8]\n",
            " [ 9 10 11]]\n"
          ]
        }
      ]
    },
    {
      "cell_type": "code",
      "source": [
        "np.concatenate((c,d),axis=0)\n",
        "np.concatenate((c,d),axis=1)"
      ],
      "metadata": {
        "colab": {
          "base_uri": "https://localhost:8080/"
        },
        "id": "F0ADqpCRnMHW",
        "outputId": "d46b49f2-93a4-4ae4-a058-b0d8be403cc6"
      },
      "execution_count": 10,
      "outputs": [
        {
          "output_type": "execute_result",
          "data": {
            "text/plain": [
              "array([[ 0,  1,  2,  6,  7,  8],\n",
              "       [ 3,  4,  5,  9, 10, 11]])"
            ]
          },
          "metadata": {},
          "execution_count": 10
        }
      ]
    },
    {
      "cell_type": "markdown",
      "source": [
        "# np.unique - we can get the unuque values from the the given array"
      ],
      "metadata": {
        "id": "UvHqeuUanktj"
      }
    },
    {
      "cell_type": "code",
      "source": [
        "e = np.array([1,2,2,2,3,3,3,3,4,4,4,5,5,5])\n",
        "f = np.array([[1,2,3,3],[1,2,2,3]])\n",
        "print(e)\n",
        "print(f)"
      ],
      "metadata": {
        "colab": {
          "base_uri": "https://localhost:8080/"
        },
        "id": "x9noFnGqnVaQ",
        "outputId": "0ea908ed-0807-499f-855b-50f8ec5fb50b"
      },
      "execution_count": 11,
      "outputs": [
        {
          "output_type": "stream",
          "name": "stdout",
          "text": [
            "[1 2 2 2 3 3 3 3 4 4 4 5 5 5]\n",
            "[[1 2 3 3]\n",
            " [1 2 2 3]]\n"
          ]
        }
      ]
    },
    {
      "cell_type": "code",
      "source": [
        "np.unique(e)"
      ],
      "metadata": {
        "colab": {
          "base_uri": "https://localhost:8080/"
        },
        "id": "-pPusMAEn7jJ",
        "outputId": "05179950-c9cc-4435-9695-1f83c5bc316f"
      },
      "execution_count": 12,
      "outputs": [
        {
          "output_type": "execute_result",
          "data": {
            "text/plain": [
              "array([1, 2, 3, 4, 5])"
            ]
          },
          "metadata": {},
          "execution_count": 12
        }
      ]
    },
    {
      "cell_type": "markdown",
      "source": [
        "# np.expand_dims - we can get the expanded dimensions of array"
      ],
      "metadata": {
        "id": "CyjtU6seoTrw"
      }
    },
    {
      "cell_type": "code",
      "source": [
        "a"
      ],
      "metadata": {
        "colab": {
          "base_uri": "https://localhost:8080/"
        },
        "id": "1oIE0AXYn-q1",
        "outputId": "7f1831f2-39cb-460a-b387-c4e0b586ff49"
      },
      "execution_count": 13,
      "outputs": [
        {
          "output_type": "execute_result",
          "data": {
            "text/plain": [
              "array([ 9, 19, 81, 37, 75, 81, 70,  4, 55, 90,  4, 67, 78, 50, 97])"
            ]
          },
          "metadata": {},
          "execution_count": 13
        }
      ]
    },
    {
      "cell_type": "code",
      "source": [
        "a1 = np.expand_dims(a,axis=0)\n",
        "a1\n",
        "a2 = np.expand_dims(a,axis=1)\n",
        "a2\n",
        "b\n",
        "b1 = np.expand_dims(b,axis=1)\n",
        "b1"
      ],
      "metadata": {
        "colab": {
          "base_uri": "https://localhost:8080/"
        },
        "id": "oqXuKYzQolYw",
        "outputId": "ee22d9c3-b02b-4866-be8b-ebb87dfd75f0"
      },
      "execution_count": 14,
      "outputs": [
        {
          "output_type": "execute_result",
          "data": {
            "text/plain": [
              "array([[[57, 47, 12, 24]],\n",
              "\n",
              "       [[43, 87, 15,  4]],\n",
              "\n",
              "       [[56, 91, 35, 46]],\n",
              "\n",
              "       [[ 4, 11, 40, 61]],\n",
              "\n",
              "       [[70, 62, 82, 53]],\n",
              "\n",
              "       [[21, 66, 23, 82]]])"
            ]
          },
          "metadata": {},
          "execution_count": 14
        }
      ]
    },
    {
      "cell_type": "markdown",
      "source": [
        "# np.where - The numpy.where() function return the indices of elements in an input array where given condition is satisfied."
      ],
      "metadata": {
        "id": "ITcKc50-qKb9"
      }
    },
    {
      "cell_type": "code",
      "source": [
        "a"
      ],
      "metadata": {
        "colab": {
          "base_uri": "https://localhost:8080/"
        },
        "id": "8Ee6FvaXopsK",
        "outputId": "3687f11b-ecf2-42a5-8582-79d79be6bee5"
      },
      "execution_count": 15,
      "outputs": [
        {
          "output_type": "execute_result",
          "data": {
            "text/plain": [
              "array([ 9, 19, 81, 37, 75, 81, 70,  4, 55, 90,  4, 67, 78, 50, 97])"
            ]
          },
          "metadata": {},
          "execution_count": 15
        }
      ]
    },
    {
      "cell_type": "code",
      "source": [
        "# find all indicies with values greater then 50\n",
        "np.where(a>50)\n"
      ],
      "metadata": {
        "colab": {
          "base_uri": "https://localhost:8080/"
        },
        "id": "TKCAWl3qqbcX",
        "outputId": "9120db6d-d5a2-4bf8-b936-f0c0157d4c6b"
      },
      "execution_count": 16,
      "outputs": [
        {
          "output_type": "execute_result",
          "data": {
            "text/plain": [
              "(array([ 2,  4,  5,  6,  8,  9, 11, 12, 14]),)"
            ]
          },
          "metadata": {},
          "execution_count": 16
        }
      ]
    },
    {
      "cell_type": "code",
      "source": [
        "# Replace all values > 50 with 0\n",
        "# np.where(condition,true,false)\n",
        "np.where(a>50,0,a)"
      ],
      "metadata": {
        "colab": {
          "base_uri": "https://localhost:8080/"
        },
        "id": "3KJt39EQqn2v",
        "outputId": "9a15c8e0-1613-4f70-c92e-94bd39f73f9a"
      },
      "execution_count": 17,
      "outputs": [
        {
          "output_type": "execute_result",
          "data": {
            "text/plain": [
              "array([ 9, 19,  0, 37,  0,  0,  0,  4,  0,  0,  4,  0,  0, 50,  0])"
            ]
          },
          "metadata": {},
          "execution_count": 17
        }
      ]
    },
    {
      "cell_type": "code",
      "source": [
        "# find all indiecies with values even\n",
        "np.where(a%2==0)"
      ],
      "metadata": {
        "colab": {
          "base_uri": "https://localhost:8080/"
        },
        "id": "pqPfRSWmrZsg",
        "outputId": "3137eb15-ec2a-4df4-d18e-1a8d9ed56ff9"
      },
      "execution_count": 18,
      "outputs": [
        {
          "output_type": "execute_result",
          "data": {
            "text/plain": [
              "(array([ 6,  7,  9, 10, 12, 13]),)"
            ]
          },
          "metadata": {},
          "execution_count": 18
        }
      ]
    },
    {
      "cell_type": "code",
      "source": [
        "np.where(a%2==0,0,a)"
      ],
      "metadata": {
        "colab": {
          "base_uri": "https://localhost:8080/"
        },
        "id": "SjdYOuu2rjgo",
        "outputId": "3c9fcd47-42ae-4e6f-99e0-dcf69a8a491d"
      },
      "execution_count": 19,
      "outputs": [
        {
          "output_type": "execute_result",
          "data": {
            "text/plain": [
              "array([ 9, 19, 81, 37, 75, 81,  0,  0, 55,  0,  0, 67,  0,  0, 97])"
            ]
          },
          "metadata": {},
          "execution_count": 19
        }
      ]
    },
    {
      "cell_type": "markdown",
      "source": [
        "# np.argmax - return indices of the max element of array in perticular axis."
      ],
      "metadata": {
        "id": "eexMbVS1CQqf"
      }
    },
    {
      "cell_type": "code",
      "source": [
        "print(a)\n",
        "print(b)"
      ],
      "metadata": {
        "colab": {
          "base_uri": "https://localhost:8080/"
        },
        "id": "NovDqCztst11",
        "outputId": "c3a93ef8-6d1b-4f2d-8c36-1fd662775361"
      },
      "execution_count": 20,
      "outputs": [
        {
          "output_type": "stream",
          "name": "stdout",
          "text": [
            "[ 9 19 81 37 75 81 70  4 55 90  4 67 78 50 97]\n",
            "[[57 47 12 24]\n",
            " [43 87 15  4]\n",
            " [56 91 35 46]\n",
            " [ 4 11 40 61]\n",
            " [70 62 82 53]\n",
            " [21 66 23 82]]\n"
          ]
        }
      ]
    },
    {
      "cell_type": "code",
      "source": [
        "np.argmax(a)\n",
        "np.argmax(b)\n",
        "np.argmax(b,axis=0) # => axis = 0 means rows will getting changes cols are same\n",
        "np.argmax(b,axis=1) # => axis = 1 means cols will getting changes rows are same\n"
      ],
      "metadata": {
        "colab": {
          "base_uri": "https://localhost:8080/"
        },
        "id": "cQJ1wQOWCHBQ",
        "outputId": "27e0fd8a-1046-43a4-e764-cbd1e213e318"
      },
      "execution_count": 21,
      "outputs": [
        {
          "output_type": "execute_result",
          "data": {
            "text/plain": [
              "array([0, 1, 1, 3, 2, 3])"
            ]
          },
          "metadata": {},
          "execution_count": 21
        }
      ]
    },
    {
      "cell_type": "markdown",
      "source": [
        "# np.argmin - return indices of the min element of array in perticular axis"
      ],
      "metadata": {
        "id": "rFRTwZfqEJpJ"
      }
    },
    {
      "cell_type": "code",
      "source": [
        "np.argmin(a)\n",
        "np.argmin(b,axis=0)\n",
        "np.argmin(b,axis=1)"
      ],
      "metadata": {
        "colab": {
          "base_uri": "https://localhost:8080/"
        },
        "id": "hzHe1FJUCG_M",
        "outputId": "3b68bc30-3fe2-4b1d-95f2-61901221b732"
      },
      "execution_count": 22,
      "outputs": [
        {
          "output_type": "execute_result",
          "data": {
            "text/plain": [
              "array([2, 3, 2, 0, 3, 0])"
            ]
          },
          "metadata": {},
          "execution_count": 22
        }
      ]
    },
    {
      "cell_type": "markdown",
      "source": [
        "# np.cumsum - we want to compute the cumulative sum of array element over given axis."
      ],
      "metadata": {
        "id": "YA5wF61XHeez"
      }
    },
    {
      "cell_type": "code",
      "source": [
        "a"
      ],
      "metadata": {
        "colab": {
          "base_uri": "https://localhost:8080/"
        },
        "id": "8KpGBA1XCG8k",
        "outputId": "347a1c45-16bf-47b3-e13f-4c84be4c13c7"
      },
      "execution_count": 23,
      "outputs": [
        {
          "output_type": "execute_result",
          "data": {
            "text/plain": [
              "array([ 9, 19, 81, 37, 75, 81, 70,  4, 55, 90,  4, 67, 78, 50, 97])"
            ]
          },
          "metadata": {},
          "execution_count": 23
        }
      ]
    },
    {
      "cell_type": "code",
      "source": [
        "np.cumsum(a)\n",
        "np.cumsum(b,axis=0)\n",
        "np.cumsum(b,axis=1)\n",
        "np.cumsum(b)\n",
        "np.cumprod(a)\n",
        "np.cumprod(b,axis=0)\n",
        "np.cumprod(b,axis=1)\n"
      ],
      "metadata": {
        "colab": {
          "base_uri": "https://localhost:8080/"
        },
        "id": "hly2DkPRCG6O",
        "outputId": "7d717b48-62d8-46f7-aa5b-8108100c05f1"
      },
      "execution_count": 24,
      "outputs": [
        {
          "output_type": "execute_result",
          "data": {
            "text/plain": [
              "array([[      57,     2679,    32148,   771552],\n",
              "       [      43,     3741,    56115,   224460],\n",
              "       [      56,     5096,   178360,  8204560],\n",
              "       [       4,       44,     1760,   107360],\n",
              "       [      70,     4340,   355880, 18861640],\n",
              "       [      21,     1386,    31878,  2613996]])"
            ]
          },
          "metadata": {},
          "execution_count": 24
        }
      ]
    },
    {
      "cell_type": "markdown",
      "source": [
        "# np.percentile -"
      ],
      "metadata": {
        "id": "YYic7qNNKLOk"
      }
    },
    {
      "cell_type": "code",
      "source": [
        "np.percentile(a,100)\n",
        "np.percentile(a,0)\n",
        "np.percentile(a,50)\n",
        "np.median(a)\n"
      ],
      "metadata": {
        "colab": {
          "base_uri": "https://localhost:8080/"
        },
        "id": "NoOP6DxOCG34",
        "outputId": "fe3e0a9d-2381-4fb0-a022-f0d53645006d"
      },
      "execution_count": 25,
      "outputs": [
        {
          "output_type": "execute_result",
          "data": {
            "text/plain": [
              "67.0"
            ]
          },
          "metadata": {},
          "execution_count": 25
        }
      ]
    },
    {
      "cell_type": "markdown",
      "source": [
        "# np.histogram - frequency of data in graphical form."
      ],
      "metadata": {
        "id": "QFBADz2tLqCv"
      }
    },
    {
      "cell_type": "code",
      "source": [
        "a"
      ],
      "metadata": {
        "colab": {
          "base_uri": "https://localhost:8080/"
        },
        "id": "DLNM7ldQCG1T",
        "outputId": "9588f7b4-7b02-458b-d952-3f2223918a31"
      },
      "execution_count": 26,
      "outputs": [
        {
          "output_type": "execute_result",
          "data": {
            "text/plain": [
              "array([ 9, 19, 81, 37, 75, 81, 70,  4, 55, 90,  4, 67, 78, 50, 97])"
            ]
          },
          "metadata": {},
          "execution_count": 26
        }
      ]
    },
    {
      "cell_type": "code",
      "source": [
        "np.histogram(a,bins=[0,10,20,30,40,50,60,70,80,90,100])\n",
        "np.histogram(a,bins=[0,50,100])"
      ],
      "metadata": {
        "colab": {
          "base_uri": "https://localhost:8080/"
        },
        "id": "PLLVD5ydCGwE",
        "outputId": "b7503f8e-e38c-4f4c-d49e-b0ec0f537167"
      },
      "execution_count": 27,
      "outputs": [
        {
          "output_type": "execute_result",
          "data": {
            "text/plain": [
              "(array([ 5, 10]), array([  0,  50, 100]))"
            ]
          },
          "metadata": {},
          "execution_count": 27
        }
      ]
    },
    {
      "cell_type": "markdown",
      "source": [
        "# np.isin - one array having values are checked in a different numpy array having different elements with different size."
      ],
      "metadata": {
        "id": "BuP0eMobQ2UX"
      }
    },
    {
      "cell_type": "code",
      "source": [
        "a"
      ],
      "metadata": {
        "colab": {
          "base_uri": "https://localhost:8080/"
        },
        "id": "RnLz5GYNCGt0",
        "outputId": "c60a5f35-091b-4195-b619-a89dfe670b3c"
      },
      "execution_count": 28,
      "outputs": [
        {
          "output_type": "execute_result",
          "data": {
            "text/plain": [
              "array([ 9, 19, 81, 37, 75, 81, 70,  4, 55, 90,  4, 67, 78, 50, 97])"
            ]
          },
          "metadata": {},
          "execution_count": 28
        }
      ]
    },
    {
      "cell_type": "code",
      "source": [
        "items = [10,20,30,40,50,60,70,80,90,100]\n",
        "np.isin(a,items)"
      ],
      "metadata": {
        "colab": {
          "base_uri": "https://localhost:8080/"
        },
        "id": "s-Se6PmNROz0",
        "outputId": "8aa5fb20-9930-44cf-f72a-4ace362cbfa9"
      },
      "execution_count": 29,
      "outputs": [
        {
          "output_type": "execute_result",
          "data": {
            "text/plain": [
              "array([False, False, False, False, False, False,  True, False, False,\n",
              "        True, False, False, False,  True, False])"
            ]
          },
          "metadata": {},
          "execution_count": 29
        }
      ]
    },
    {
      "cell_type": "code",
      "source": [
        "a[np.isin(a,items)]"
      ],
      "metadata": {
        "colab": {
          "base_uri": "https://localhost:8080/"
        },
        "id": "6Wut0JYwRY_y",
        "outputId": "2dde9576-809f-4fb6-ecd5-64aa0296fc93"
      },
      "execution_count": 30,
      "outputs": [
        {
          "output_type": "execute_result",
          "data": {
            "text/plain": [
              "array([70, 90, 50])"
            ]
          },
          "metadata": {},
          "execution_count": 30
        }
      ]
    },
    {
      "cell_type": "markdown",
      "source": [
        "# np.flip() :\n",
        "the numpy.flip() function reverse the order of array elements along the specified axis. preserving the shape of the array."
      ],
      "metadata": {
        "id": "-USFHCzyRxzw"
      }
    },
    {
      "cell_type": "code",
      "source": [
        "a\n",
        "b"
      ],
      "metadata": {
        "colab": {
          "base_uri": "https://localhost:8080/"
        },
        "id": "qMXr96pfRnHC",
        "outputId": "f7c43224-98d9-4d4e-fcc2-6a37dda76da5"
      },
      "execution_count": 31,
      "outputs": [
        {
          "output_type": "execute_result",
          "data": {
            "text/plain": [
              "array([[57, 47, 12, 24],\n",
              "       [43, 87, 15,  4],\n",
              "       [56, 91, 35, 46],\n",
              "       [ 4, 11, 40, 61],\n",
              "       [70, 62, 82, 53],\n",
              "       [21, 66, 23, 82]])"
            ]
          },
          "metadata": {},
          "execution_count": 31
        }
      ]
    },
    {
      "cell_type": "code",
      "source": [
        "np.flip(a)"
      ],
      "metadata": {
        "colab": {
          "base_uri": "https://localhost:8080/"
        },
        "id": "YMR4gi17SM03",
        "outputId": "73f247fd-86cd-4ffd-894b-3ba3dd3d2d10"
      },
      "execution_count": 32,
      "outputs": [
        {
          "output_type": "execute_result",
          "data": {
            "text/plain": [
              "array([97, 50, 78, 67,  4, 90, 55,  4, 70, 81, 75, 37, 81, 19,  9])"
            ]
          },
          "metadata": {},
          "execution_count": 32
        }
      ]
    },
    {
      "cell_type": "code",
      "source": [
        "np.flip(b)\n",
        "np.flip(b,axis=0)\n",
        "np.flip(b,axis=1)"
      ],
      "metadata": {
        "colab": {
          "base_uri": "https://localhost:8080/"
        },
        "id": "WfG-0ZGmSOSQ",
        "outputId": "7baa69d4-e4b3-4674-e658-4e3a28fbc512"
      },
      "execution_count": 33,
      "outputs": [
        {
          "output_type": "execute_result",
          "data": {
            "text/plain": [
              "array([[24, 12, 47, 57],\n",
              "       [ 4, 15, 87, 43],\n",
              "       [46, 35, 91, 56],\n",
              "       [61, 40, 11,  4],\n",
              "       [53, 82, 62, 70],\n",
              "       [82, 23, 66, 21]])"
            ]
          },
          "metadata": {},
          "execution_count": 33
        }
      ]
    },
    {
      "cell_type": "markdown",
      "source": [
        "# np.put -\n",
        "The numpy.put() function replace specific elements of an array with given values of p_array. Array indexes works on flattened array."
      ],
      "metadata": {
        "id": "5eL8kD83TG6b"
      }
    },
    {
      "cell_type": "code",
      "source": [
        "a"
      ],
      "metadata": {
        "colab": {
          "base_uri": "https://localhost:8080/"
        },
        "id": "dEENG4UySR8h",
        "outputId": "4e49d062-e8ff-456c-92d5-6ab900ac27ab"
      },
      "execution_count": 34,
      "outputs": [
        {
          "output_type": "execute_result",
          "data": {
            "text/plain": [
              "array([ 9, 19, 81, 37, 75, 81, 70,  4, 55, 90,  4, 67, 78, 50, 97])"
            ]
          },
          "metadata": {},
          "execution_count": 34
        }
      ]
    },
    {
      "cell_type": "code",
      "source": [
        "np.put(a,[0,1],[30,20])"
      ],
      "metadata": {
        "id": "5DYyzdBQTbNo"
      },
      "execution_count": 35,
      "outputs": []
    },
    {
      "cell_type": "code",
      "source": [
        "a"
      ],
      "metadata": {
        "colab": {
          "base_uri": "https://localhost:8080/"
        },
        "id": "sg6GXWz_Thfy",
        "outputId": "4c33cf54-b686-4d54-adf9-ca3080d00edd"
      },
      "execution_count": 36,
      "outputs": [
        {
          "output_type": "execute_result",
          "data": {
            "text/plain": [
              "array([30, 20, 81, 37, 75, 81, 70,  4, 55, 90,  4, 67, 78, 50, 97])"
            ]
          },
          "metadata": {},
          "execution_count": 36
        }
      ]
    },
    {
      "cell_type": "markdown",
      "source": [
        "# np.delete\n",
        "The numpy.delete() function will return a new array with the deletion of sub-array along with the mention axis."
      ],
      "metadata": {
        "id": "FC9aeKlPU09h"
      }
    },
    {
      "cell_type": "code",
      "source": [
        "a"
      ],
      "metadata": {
        "colab": {
          "base_uri": "https://localhost:8080/"
        },
        "id": "sN_uNfnMTijX",
        "outputId": "31e95a45-ec1e-4778-83a3-a9a209da9543"
      },
      "execution_count": 37,
      "outputs": [
        {
          "output_type": "execute_result",
          "data": {
            "text/plain": [
              "array([30, 20, 81, 37, 75, 81, 70,  4, 55, 90,  4, 67, 78, 50, 97])"
            ]
          },
          "metadata": {},
          "execution_count": 37
        }
      ]
    },
    {
      "cell_type": "code",
      "source": [
        "np.delete(a,[0,1,2,3,4,5])"
      ],
      "metadata": {
        "colab": {
          "base_uri": "https://localhost:8080/"
        },
        "id": "gufnyUWjVPg9",
        "outputId": "f35c9ecd-0650-4533-c50f-5a1379a79af2"
      },
      "execution_count": 38,
      "outputs": [
        {
          "output_type": "execute_result",
          "data": {
            "text/plain": [
              "array([70,  4, 55, 90,  4, 67, 78, 50, 97])"
            ]
          },
          "metadata": {},
          "execution_count": 38
        }
      ]
    },
    {
      "cell_type": "code",
      "source": [
        "b"
      ],
      "metadata": {
        "colab": {
          "base_uri": "https://localhost:8080/"
        },
        "id": "70pDvJVhVSdd",
        "outputId": "00681654-9d06-4614-be6b-486770043811"
      },
      "execution_count": 39,
      "outputs": [
        {
          "output_type": "execute_result",
          "data": {
            "text/plain": [
              "array([[57, 47, 12, 24],\n",
              "       [43, 87, 15,  4],\n",
              "       [56, 91, 35, 46],\n",
              "       [ 4, 11, 40, 61],\n",
              "       [70, 62, 82, 53],\n",
              "       [21, 66, 23, 82]])"
            ]
          },
          "metadata": {},
          "execution_count": 39
        }
      ]
    },
    {
      "cell_type": "code",
      "source": [
        "np.delete(b,[0,1],axis=1)"
      ],
      "metadata": {
        "colab": {
          "base_uri": "https://localhost:8080/"
        },
        "id": "dcFz1fy0Vb_F",
        "outputId": "e4b55d74-6a70-4bf3-fae1-233a8c433c97"
      },
      "execution_count": 40,
      "outputs": [
        {
          "output_type": "execute_result",
          "data": {
            "text/plain": [
              "array([[12, 24],\n",
              "       [15,  4],\n",
              "       [35, 46],\n",
              "       [40, 61],\n",
              "       [82, 53],\n",
              "       [23, 82]])"
            ]
          },
          "metadata": {},
          "execution_count": 40
        }
      ]
    },
    {
      "cell_type": "code",
      "source": [
        "np.delete(b,[0,1],axis=0)"
      ],
      "metadata": {
        "colab": {
          "base_uri": "https://localhost:8080/"
        },
        "id": "rhgYDpDBVkxD",
        "outputId": "15ce55ff-a7e0-4a2e-d985-7fbf7371d64f"
      },
      "execution_count": 41,
      "outputs": [
        {
          "output_type": "execute_result",
          "data": {
            "text/plain": [
              "array([[56, 91, 35, 46],\n",
              "       [ 4, 11, 40, 61],\n",
              "       [70, 62, 82, 53],\n",
              "       [21, 66, 23, 82]])"
            ]
          },
          "metadata": {},
          "execution_count": 41
        }
      ]
    },
    {
      "cell_type": "code",
      "source": [],
      "metadata": {
        "id": "TlV-JmTWVvU6"
      },
      "execution_count": 41,
      "outputs": []
    },
    {
      "cell_type": "markdown",
      "source": [
        "# Set Functions\n",
        "\n",
        "\n",
        "*   np.union1d\n",
        "*   np.interset1d\n",
        "*   np.setdiff1d\n",
        "*   np.setxor1d\n",
        "*   np.in1d\n",
        "\n",
        "\n"
      ],
      "metadata": {
        "id": "bn4nXbLRnGsS"
      }
    },
    {
      "cell_type": "code",
      "source": [
        "m = np.array([1,2,3,4,5,6])\n",
        "n = np.array([4,5,6,7])\n",
        "\n",
        "np.union1d(m,n)"
      ],
      "metadata": {
        "colab": {
          "base_uri": "https://localhost:8080/"
        },
        "id": "VVCMiugbnK8z",
        "outputId": "b2a980bf-158a-4b19-fb54-613b6fe1b610"
      },
      "execution_count": 43,
      "outputs": [
        {
          "output_type": "execute_result",
          "data": {
            "text/plain": [
              "array([1, 2, 3, 4, 5, 6, 7])"
            ]
          },
          "metadata": {},
          "execution_count": 43
        }
      ]
    },
    {
      "cell_type": "code",
      "source": [
        "np.intersect1d(m,n)"
      ],
      "metadata": {
        "colab": {
          "base_uri": "https://localhost:8080/"
        },
        "id": "3rL1P0zOn4cW",
        "outputId": "81da3460-b641-4f3e-af2f-db2250e81031"
      },
      "execution_count": 44,
      "outputs": [
        {
          "output_type": "execute_result",
          "data": {
            "text/plain": [
              "array([4, 5, 6])"
            ]
          },
          "metadata": {},
          "execution_count": 44
        }
      ]
    },
    {
      "cell_type": "code",
      "source": [
        "np.setdiff1d(m,n)"
      ],
      "metadata": {
        "colab": {
          "base_uri": "https://localhost:8080/"
        },
        "id": "Kb488McZoLmo",
        "outputId": "7905148b-844a-4713-8f4c-3fd2ff5dadc0"
      },
      "execution_count": 45,
      "outputs": [
        {
          "output_type": "execute_result",
          "data": {
            "text/plain": [
              "array([1, 2, 3])"
            ]
          },
          "metadata": {},
          "execution_count": 45
        }
      ]
    },
    {
      "cell_type": "code",
      "source": [
        "np.setxor1d(m,n)"
      ],
      "metadata": {
        "colab": {
          "base_uri": "https://localhost:8080/"
        },
        "id": "9GAeqX9voS2U",
        "outputId": "4574dd29-9e8a-4a9f-829f-4474c37da824"
      },
      "execution_count": 46,
      "outputs": [
        {
          "output_type": "execute_result",
          "data": {
            "text/plain": [
              "array([1, 2, 3, 7])"
            ]
          },
          "metadata": {},
          "execution_count": 46
        }
      ]
    },
    {
      "cell_type": "code",
      "source": [
        "np.in1d(m,n)"
      ],
      "metadata": {
        "colab": {
          "base_uri": "https://localhost:8080/"
        },
        "id": "zh78ZpWGoVa4",
        "outputId": "dbc68a96-379c-4ef3-f372-d9aefb550432"
      },
      "execution_count": 47,
      "outputs": [
        {
          "output_type": "execute_result",
          "data": {
            "text/plain": [
              "array([False, False, False,  True,  True,  True])"
            ]
          },
          "metadata": {},
          "execution_count": 47
        }
      ]
    },
    {
      "cell_type": "code",
      "source": [],
      "metadata": {
        "id": "Ls-LesfboXPx"
      },
      "execution_count": null,
      "outputs": []
    }
  ]
}