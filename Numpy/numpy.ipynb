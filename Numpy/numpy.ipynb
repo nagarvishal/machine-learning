{
  "nbformat": 4,
  "nbformat_minor": 0,
  "metadata": {
    "colab": {
      "provenance": [],
      "authorship_tag": "ABX9TyNj5lUguq1CZmkEznqVPMqF",
      "include_colab_link": true
    },
    "kernelspec": {
      "name": "python3",
      "display_name": "Python 3"
    },
    "language_info": {
      "name": "python"
    }
  },
  "cells": [
    {
      "cell_type": "markdown",
      "metadata": {
        "id": "view-in-github",
        "colab_type": "text"
      },
      "source": [
        "<a href=\"https://colab.research.google.com/github/nagarvishal/machine-learning/blob/main/numpy.ipynb\" target=\"_parent\"><img src=\"https://colab.research.google.com/assets/colab-badge.svg\" alt=\"Open In Colab\"/></a>"
      ]
    },
    {
      "cell_type": "code",
      "execution_count": 1,
      "metadata": {
        "id": "sJj1aebqq17M"
      },
      "outputs": [],
      "source": [
        "import numpy as np"
      ]
    },
    {
      "cell_type": "code",
      "source": [
        "#Create A One-D Array\n",
        "\n",
        "a = np.array([1,2,3])\n",
        "print(a,type(a))"
      ],
      "metadata": {
        "id": "56FUOVgcq7gK",
        "colab": {
          "base_uri": "https://localhost:8080/"
        },
        "outputId": "919608bf-8d7d-4dfb-d986-891036c14823"
      },
      "execution_count": 2,
      "outputs": [
        {
          "output_type": "stream",
          "name": "stdout",
          "text": [
            "[1 2 3] <class 'numpy.ndarray'>\n"
          ]
        }
      ]
    },
    {
      "cell_type": "code",
      "source": [
        "#Create A Two-D Array\n",
        "b = np.array([[1,2,3],[4,5,6]])\n",
        "print(b,type(b))"
      ],
      "metadata": {
        "id": "WfM7UOwrrJYk",
        "colab": {
          "base_uri": "https://localhost:8080/"
        },
        "outputId": "3c500d3e-62c3-42a5-c6f6-45b50bf39a95"
      },
      "execution_count": 3,
      "outputs": [
        {
          "output_type": "stream",
          "name": "stdout",
          "text": [
            "[[1 2 3]\n",
            " [4 5 6]] <class 'numpy.ndarray'>\n"
          ]
        }
      ]
    },
    {
      "cell_type": "code",
      "source": [
        "#Create A Three-D Array\n",
        "c = np.array([[[1,2,3],[4,5,6]],[[6,7,8],[9,10,11]]])\n",
        "print(c,type(c))"
      ],
      "metadata": {
        "colab": {
          "base_uri": "https://localhost:8080/"
        },
        "id": "3NUI0f87qUtN",
        "outputId": "ac5ee8d6-27b2-4643-e969-f1cdf3377533"
      },
      "execution_count": 4,
      "outputs": [
        {
          "output_type": "stream",
          "name": "stdout",
          "text": [
            "[[[ 1  2  3]\n",
            "  [ 4  5  6]]\n",
            "\n",
            " [[ 6  7  8]\n",
            "  [ 9 10 11]]] <class 'numpy.ndarray'>\n"
          ]
        }
      ]
    },
    {
      "cell_type": "code",
      "source": [
        "#Creating A Array of Specific dtype\n",
        "print(np.array([1,2,3],dtype=float))\n",
        "print(np.array([1,2,3],dtype=bool))\n",
        "print(np.array([1,2,3],dtype=complex))"
      ],
      "metadata": {
        "colab": {
          "base_uri": "https://localhost:8080/"
        },
        "id": "iMsuHysIq7i9",
        "outputId": "427ddc21-f64f-4810-cab3-9c0bd475fa90"
      },
      "execution_count": 5,
      "outputs": [
        {
          "output_type": "stream",
          "name": "stdout",
          "text": [
            "[1. 2. 3.]\n",
            "[ True  True  True]\n",
            "[1.+0.j 2.+0.j 3.+0.j]\n"
          ]
        }
      ]
    },
    {
      "cell_type": "code",
      "source": [
        "# np.arange\n",
        "np.arange(1,11)\n",
        "np.arange(1,11,2)\n"
      ],
      "metadata": {
        "colab": {
          "base_uri": "https://localhost:8080/"
        },
        "id": "FyeZP9ekruzQ",
        "outputId": "998aec19-14b6-4d1f-943e-f61a42141612"
      },
      "execution_count": 6,
      "outputs": [
        {
          "output_type": "execute_result",
          "data": {
            "text/plain": [
              "array([1, 3, 5, 7, 9])"
            ]
          },
          "metadata": {},
          "execution_count": 6
        }
      ]
    },
    {
      "cell_type": "code",
      "source": [
        "# reshape of numpy array - np.arange(1,11).reshape(dim_outmost,rows,columns)\n",
        "np.arange(1,11).reshape(2,5)\n",
        "np.arange(1,13).reshape(1,4,3)"
      ],
      "metadata": {
        "colab": {
          "base_uri": "https://localhost:8080/"
        },
        "id": "-9RrSmI3tJBI",
        "outputId": "fbfcf5cb-7f06-474c-c52a-625438b4f430"
      },
      "execution_count": 7,
      "outputs": [
        {
          "output_type": "execute_result",
          "data": {
            "text/plain": [
              "array([[[ 1,  2,  3],\n",
              "        [ 4,  5,  6],\n",
              "        [ 7,  8,  9],\n",
              "        [10, 11, 12]]])"
            ]
          },
          "metadata": {},
          "execution_count": 7
        }
      ]
    },
    {
      "cell_type": "code",
      "source": [
        "# np.once and np.zeros\n",
        "np.ones((3,4))"
      ],
      "metadata": {
        "colab": {
          "base_uri": "https://localhost:8080/"
        },
        "id": "-LAfPdB8t6s9",
        "outputId": "e19f0347-1b77-4e06-8460-cc097655a1d9"
      },
      "execution_count": 8,
      "outputs": [
        {
          "output_type": "execute_result",
          "data": {
            "text/plain": [
              "array([[1., 1., 1., 1.],\n",
              "       [1., 1., 1., 1.],\n",
              "       [1., 1., 1., 1.]])"
            ]
          },
          "metadata": {},
          "execution_count": 8
        }
      ]
    },
    {
      "cell_type": "code",
      "source": [
        "np.zeros((3,4))"
      ],
      "metadata": {
        "colab": {
          "base_uri": "https://localhost:8080/"
        },
        "id": "UBVN0xE4v_DM",
        "outputId": "ef7b6e19-8aca-4b6b-fd60-366bf3dec4a3"
      },
      "execution_count": 9,
      "outputs": [
        {
          "output_type": "execute_result",
          "data": {
            "text/plain": [
              "array([[0., 0., 0., 0.],\n",
              "       [0., 0., 0., 0.],\n",
              "       [0., 0., 0., 0.]])"
            ]
          },
          "metadata": {},
          "execution_count": 9
        }
      ]
    },
    {
      "cell_type": "code",
      "source": [
        "# Generate the Random values Array - np.random\n",
        "np.random.random((3,4))"
      ],
      "metadata": {
        "colab": {
          "base_uri": "https://localhost:8080/"
        },
        "id": "qhdunYIXwbm8",
        "outputId": "6c149573-305f-41df-fdb4-3fc2f3e2809d"
      },
      "execution_count": 10,
      "outputs": [
        {
          "output_type": "execute_result",
          "data": {
            "text/plain": [
              "array([[0.20758315, 0.47652183, 0.40039019, 0.03546724],\n",
              "       [0.88048405, 0.75040357, 0.12202787, 0.43591054],\n",
              "       [0.04289122, 0.13637252, 0.01494535, 0.11516793]])"
            ]
          },
          "metadata": {},
          "execution_count": 10
        }
      ]
    },
    {
      "cell_type": "code",
      "source": [
        "# np.linspace()\n",
        "np.linspace(-10,10,10)\n",
        "# np.linspace(-10,10,10,dtype=int)"
      ],
      "metadata": {
        "colab": {
          "base_uri": "https://localhost:8080/"
        },
        "id": "yqFkn_sdw6PM",
        "outputId": "6fb9ea47-7ae6-48bb-9ab0-133831427983"
      },
      "execution_count": 11,
      "outputs": [
        {
          "output_type": "execute_result",
          "data": {
            "text/plain": [
              "array([-10.        ,  -7.77777778,  -5.55555556,  -3.33333333,\n",
              "        -1.11111111,   1.11111111,   3.33333333,   5.55555556,\n",
              "         7.77777778,  10.        ])"
            ]
          },
          "metadata": {},
          "execution_count": 11
        }
      ]
    },
    {
      "cell_type": "code",
      "source": [
        "# np.identity\n",
        "np.identity(3)"
      ],
      "metadata": {
        "colab": {
          "base_uri": "https://localhost:8080/"
        },
        "id": "7665xFM8xYAu",
        "outputId": "f16f1ec9-04be-4c28-b2fb-257020a3f3aa"
      },
      "execution_count": 12,
      "outputs": [
        {
          "output_type": "execute_result",
          "data": {
            "text/plain": [
              "array([[1., 0., 0.],\n",
              "       [0., 1., 0.],\n",
              "       [0., 0., 1.]])"
            ]
          },
          "metadata": {},
          "execution_count": 12
        }
      ]
    },
    {
      "cell_type": "markdown",
      "source": [
        "Array Attributes"
      ],
      "metadata": {
        "id": "c54lQA1d8Lrt"
      }
    },
    {
      "cell_type": "code",
      "source": [
        "# Array Attributes\n",
        "a1 = np.arange(10,dtype=np.int32)\n",
        "a2 = np.arange(12,dtype=float).reshape(3,4)\n",
        "a3 = np.arange(8).reshape(2,2,2)"
      ],
      "metadata": {
        "id": "lAsU0gy-x8av"
      },
      "execution_count": 13,
      "outputs": []
    },
    {
      "cell_type": "code",
      "source": [
        "# ndim - get the dimentions of numpy array\n",
        "a1.ndim\n",
        "a2.ndim\n",
        "a3.ndim"
      ],
      "metadata": {
        "colab": {
          "base_uri": "https://localhost:8080/"
        },
        "id": "4OGLSe2S8jv-",
        "outputId": "4f9915f2-87dd-4b4d-c685-c72cd207d4da"
      },
      "execution_count": 14,
      "outputs": [
        {
          "output_type": "execute_result",
          "data": {
            "text/plain": [
              "3"
            ]
          },
          "metadata": {},
          "execution_count": 14
        }
      ]
    },
    {
      "cell_type": "code",
      "source": [
        "# shape - get the shape of numpy array\n",
        "a1.shape\n",
        "a2.shape\n",
        "a3.shape"
      ],
      "metadata": {
        "colab": {
          "base_uri": "https://localhost:8080/"
        },
        "id": "0BgU03df9fMd",
        "outputId": "57ef905d-9b29-40a0-b94d-44c2595fe094"
      },
      "execution_count": 15,
      "outputs": [
        {
          "output_type": "execute_result",
          "data": {
            "text/plain": [
              "(2, 2, 2)"
            ]
          },
          "metadata": {},
          "execution_count": 15
        }
      ]
    },
    {
      "cell_type": "code",
      "source": [
        "# size -  get the number of items in numpy array\n",
        "a1.size\n",
        "a2.size\n",
        "a3.size"
      ],
      "metadata": {
        "colab": {
          "base_uri": "https://localhost:8080/"
        },
        "id": "cuAwRiWt96Sq",
        "outputId": "4126cb65-a17b-4fce-96ca-990bd4a5e595"
      },
      "execution_count": 16,
      "outputs": [
        {
          "output_type": "execute_result",
          "data": {
            "text/plain": [
              "8"
            ]
          },
          "metadata": {},
          "execution_count": 16
        }
      ]
    },
    {
      "cell_type": "code",
      "source": [
        "# itemsize - get the size of numpy array element\n",
        "a1.itemsize\n",
        "a2.itemsize\n",
        "a3.itemsize"
      ],
      "metadata": {
        "colab": {
          "base_uri": "https://localhost:8080/"
        },
        "id": "DR3Op8Co-iaG",
        "outputId": "33c1cd74-e53c-45a5-e57b-12ee602ab83e"
      },
      "execution_count": 17,
      "outputs": [
        {
          "output_type": "execute_result",
          "data": {
            "text/plain": [
              "8"
            ]
          },
          "metadata": {},
          "execution_count": 17
        }
      ]
    },
    {
      "cell_type": "code",
      "source": [
        "# dtype - get the datatype of out numpy array element\n",
        "a1.dtype\n",
        "a2.dtype\n",
        "a3.dtype"
      ],
      "metadata": {
        "colab": {
          "base_uri": "https://localhost:8080/"
        },
        "id": "oFSYCpfn-_mT",
        "outputId": "981accbf-ae0a-45a6-a7d4-cc495ae0df6b"
      },
      "execution_count": 18,
      "outputs": [
        {
          "output_type": "execute_result",
          "data": {
            "text/plain": [
              "dtype('int64')"
            ]
          },
          "metadata": {},
          "execution_count": 18
        }
      ]
    },
    {
      "cell_type": "markdown",
      "source": [
        "Changing DateType"
      ],
      "metadata": {
        "id": "Xj0x1OudCmt-"
      }
    },
    {
      "cell_type": "code",
      "source": [
        "# astype - Changing datatype of the numpy array\n",
        "a4 = a3.astype(np.int32)\n",
        "a4.dtype"
      ],
      "metadata": {
        "colab": {
          "base_uri": "https://localhost:8080/"
        },
        "id": "rk4lRlMy_-oP",
        "outputId": "92f6e26c-7022-4041-a9ef-a1879f8dd4f6"
      },
      "execution_count": 19,
      "outputs": [
        {
          "output_type": "execute_result",
          "data": {
            "text/plain": [
              "dtype('int32')"
            ]
          },
          "metadata": {},
          "execution_count": 19
        }
      ]
    },
    {
      "cell_type": "markdown",
      "source": [
        "Array Operations"
      ],
      "metadata": {
        "id": "FLA-yayTUFxg"
      }
    },
    {
      "cell_type": "code",
      "source": [
        "a1 = np.arange(12).reshape(3,4)\n",
        "a2 = np.arange(12,24).reshape(3,4)\n",
        "a1"
      ],
      "metadata": {
        "colab": {
          "base_uri": "https://localhost:8080/"
        },
        "id": "1y8Oy6IzUEva",
        "outputId": "83072d5f-4779-48a1-d18e-ff6e5a76e415"
      },
      "execution_count": 20,
      "outputs": [
        {
          "output_type": "execute_result",
          "data": {
            "text/plain": [
              "array([[ 0,  1,  2,  3],\n",
              "       [ 4,  5,  6,  7],\n",
              "       [ 8,  9, 10, 11]])"
            ]
          },
          "metadata": {},
          "execution_count": 20
        }
      ]
    },
    {
      "cell_type": "code",
      "source": [
        "# Scalar Operations\n",
        "\n",
        "#Airthmatic Operation\n",
        "a1 * 2\n",
        "a1 + 2\n",
        "a1 - 2\n",
        "a1 / 2\n",
        "a1 ** 2\n",
        "a1 % 2\n",
        "a1 // 2"
      ],
      "metadata": {
        "colab": {
          "base_uri": "https://localhost:8080/"
        },
        "id": "Sog6Yy7-Dl1f",
        "outputId": "3db51a7c-461b-4612-f50e-ce0c9e290d09"
      },
      "execution_count": 21,
      "outputs": [
        {
          "output_type": "execute_result",
          "data": {
            "text/plain": [
              "array([[0, 0, 1, 1],\n",
              "       [2, 2, 3, 3],\n",
              "       [4, 4, 5, 5]])"
            ]
          },
          "metadata": {},
          "execution_count": 21
        }
      ]
    },
    {
      "cell_type": "code",
      "source": [
        "#Relational Operation\n",
        "a2 > 5\n",
        "a2 < 5\n",
        "a2 >= 5\n",
        "a2 <= 5\n",
        "a2 == 5\n",
        "a2 != 5\n"
      ],
      "metadata": {
        "colab": {
          "base_uri": "https://localhost:8080/"
        },
        "id": "IV5WhelmIg7B",
        "outputId": "7b39fb90-3eeb-4f38-af01-7abcc7ddaff7"
      },
      "execution_count": 22,
      "outputs": [
        {
          "output_type": "execute_result",
          "data": {
            "text/plain": [
              "array([[ True,  True,  True,  True],\n",
              "       [ True,  True,  True,  True],\n",
              "       [ True,  True,  True,  True]])"
            ]
          },
          "metadata": {},
          "execution_count": 22
        }
      ]
    },
    {
      "cell_type": "code",
      "source": [
        "# Vector Operations\n",
        "\n",
        "# Airthmatic Operations\n",
        "a1 + a2\n",
        "a1 - a2\n",
        "a1 * a2\n",
        "a1 / a2\n",
        "a1 // a2\n",
        "a1 % a2"
      ],
      "metadata": {
        "colab": {
          "base_uri": "https://localhost:8080/"
        },
        "id": "kUA_1HR9Ig2V",
        "outputId": "a02c5586-a831-44df-8859-2c00b1b24573"
      },
      "execution_count": 23,
      "outputs": [
        {
          "output_type": "execute_result",
          "data": {
            "text/plain": [
              "array([[ 0,  1,  2,  3],\n",
              "       [ 4,  5,  6,  7],\n",
              "       [ 8,  9, 10, 11]])"
            ]
          },
          "metadata": {},
          "execution_count": 23
        }
      ]
    },
    {
      "cell_type": "code",
      "source": [],
      "metadata": {
        "id": "VgjlF5_2Igze"
      },
      "execution_count": 23,
      "outputs": []
    },
    {
      "cell_type": "markdown",
      "source": [
        "Array Functions"
      ],
      "metadata": {
        "id": "Ax3Aw6cYbFvL"
      }
    },
    {
      "cell_type": "code",
      "source": [
        "a1 = np.random.random((3,3))\n",
        "a1 = np.round(a1*100)\n",
        "a1"
      ],
      "metadata": {
        "colab": {
          "base_uri": "https://localhost:8080/"
        },
        "id": "AhCVEDDNIgqX",
        "outputId": "6e4b9da8-d0d7-4e09-ae08-65387fe2d056"
      },
      "execution_count": 24,
      "outputs": [
        {
          "output_type": "execute_result",
          "data": {
            "text/plain": [
              "array([[96., 68., 11.],\n",
              "       [ 2., 57., 24.],\n",
              "       [41., 75., 93.]])"
            ]
          },
          "metadata": {},
          "execution_count": 24
        }
      ]
    },
    {
      "cell_type": "code",
      "source": [
        "# max,min,sum,prod -> 0=> col,1=>row\n",
        "np.max(a1)\n",
        "np.min(a1)\n",
        "np.sum(a1)\n",
        "np.prod(a1)\n",
        "np.max(a1,axis=0)\n",
        "np.max(a1,axis=1)\n",
        "np.min(a1,axis=0)\n",
        "np.min(a1,axis=1)\n",
        "np.sum(a1,axis=0)\n",
        "np.sum(a1,axis=1)\n",
        "np.prod(a1,axis=0)\n",
        "np.prod(a1,axis=1)\n"
      ],
      "metadata": {
        "colab": {
          "base_uri": "https://localhost:8080/"
        },
        "id": "5iIykbO0Ige7",
        "outputId": "b0547645-ee4d-434c-906a-8045793276bc"
      },
      "execution_count": 25,
      "outputs": [
        {
          "output_type": "execute_result",
          "data": {
            "text/plain": [
              "array([ 71808.,   2736., 285975.])"
            ]
          },
          "metadata": {},
          "execution_count": 25
        }
      ]
    },
    {
      "cell_type": "code",
      "source": [
        "# mean,median,std,var\n",
        "np.mean(a1)\n",
        "np.median(a1)\n",
        "np.std(a1)\n",
        "np.var(a1)\n",
        "np.mean(a1,axis=0)\n",
        "np.mean(a1,axis=1)\n",
        "np.median(a1,axis=0)\n",
        "np.median(a1,axis=1)\n",
        "np.std(a1,axis=0)\n",
        "np.std(a1,axis=1)\n",
        "np.var(a1,axis=0)\n",
        "np.var(a1,axis=1)"
      ],
      "metadata": {
        "colab": {
          "base_uri": "https://localhost:8080/"
        },
        "id": "V3AgWNZgb_tZ",
        "outputId": "27e6a110-6c56-4554-d6d8-a149a969827f"
      },
      "execution_count": 26,
      "outputs": [
        {
          "output_type": "execute_result",
          "data": {
            "text/plain": [
              "array([1250.88888889,  510.88888889,  464.88888889])"
            ]
          },
          "metadata": {},
          "execution_count": 26
        }
      ]
    },
    {
      "cell_type": "markdown",
      "source": [
        "Trigonometric Functions"
      ],
      "metadata": {
        "id": "B5QFDkemeSEq"
      }
    },
    {
      "cell_type": "code",
      "source": [
        "#Trigonometric Functions\n",
        "np.sin(a1)\n",
        "np.cos(a1)\n",
        "np.tan(a1)"
      ],
      "metadata": {
        "colab": {
          "base_uri": "https://localhost:8080/"
        },
        "id": "DcDLpyePdbYZ",
        "outputId": "057ef7dc-72ba-42e8-8c9b-9e751f0f700d"
      },
      "execution_count": 27,
      "outputs": [
        {
          "output_type": "execute_result",
          "data": {
            "text/plain": [
              "array([[-5.45134011e+00, -2.04008160e+00, -2.25950846e+02],\n",
              "       [-2.18503986e+00,  4.84699227e-01, -2.13489670e+00],\n",
              "       [ 1.60656699e-01, -4.20700951e-01, -2.98738626e+00]])"
            ]
          },
          "metadata": {},
          "execution_count": 27
        }
      ]
    },
    {
      "cell_type": "markdown",
      "source": [
        "DOT Product"
      ],
      "metadata": {
        "id": "9Qt_DzJpfkbm"
      }
    },
    {
      "cell_type": "code",
      "source": [
        "# DOT Product\n",
        "a2 = np.arange(12).reshape(3,4)\n",
        "a3 = np.arange(12,24).reshape(4,3)\n",
        "\n",
        "np.dot(a3,a2)"
      ],
      "metadata": {
        "colab": {
          "base_uri": "https://localhost:8080/"
        },
        "id": "4P1Xlez_fOvE",
        "outputId": "b721a6d4-9a3f-4cb4-cf46-9669fa4bccd3"
      },
      "execution_count": 28,
      "outputs": [
        {
          "output_type": "execute_result",
          "data": {
            "text/plain": [
              "array([[164, 203, 242, 281],\n",
              "       [200, 248, 296, 344],\n",
              "       [236, 293, 350, 407],\n",
              "       [272, 338, 404, 470]])"
            ]
          },
          "metadata": {},
          "execution_count": 28
        }
      ]
    },
    {
      "cell_type": "code",
      "source": [
        "# Log and Exponents\n",
        "np.log(a1)\n",
        "np.exp(a1)"
      ],
      "metadata": {
        "colab": {
          "base_uri": "https://localhost:8080/"
        },
        "id": "P9mmSr-lfuw6",
        "outputId": "b77c779f-bdef-43fe-cf52-ad5b731a592b"
      },
      "execution_count": 29,
      "outputs": [
        {
          "output_type": "execute_result",
          "data": {
            "text/plain": [
              "array([[4.92345829e+41, 3.40427605e+29, 5.98741417e+04],\n",
              "       [7.38905610e+00, 5.68572000e+24, 2.64891221e+10],\n",
              "       [6.39843494e+17, 3.73324200e+32, 2.45124554e+40]])"
            ]
          },
          "metadata": {},
          "execution_count": 29
        }
      ]
    },
    {
      "cell_type": "code",
      "source": [
        "# Rount,Floor,Ceil\n",
        "np.round(np.random.random((2,3))*100)\n",
        "np.floor(np.random.random((2,3))*100)\n",
        "np.ceil(np.random.random((2,3))*100)"
      ],
      "metadata": {
        "colab": {
          "base_uri": "https://localhost:8080/"
        },
        "id": "6x4bGnG8g8sm",
        "outputId": "58570093-eaba-4921-83fa-e63e930723da"
      },
      "execution_count": 30,
      "outputs": [
        {
          "output_type": "execute_result",
          "data": {
            "text/plain": [
              "array([[91., 11., 13.],\n",
              "       [67., 89., 62.]])"
            ]
          },
          "metadata": {},
          "execution_count": 30
        }
      ]
    },
    {
      "cell_type": "markdown",
      "source": [
        "Indexing And Slicing"
      ],
      "metadata": {
        "id": "-w25x639uFAe"
      }
    },
    {
      "cell_type": "code",
      "source": [
        "# Indexing and Slicing\n",
        "a1 = np.arange(10)\n",
        "a2 = np.arange(12).reshape(3,4)\n",
        "a3 = np.arange(8).reshape(2,2,2)\n",
        "print(a1)\n",
        "print(a2)\n",
        "print(a3)"
      ],
      "metadata": {
        "colab": {
          "base_uri": "https://localhost:8080/"
        },
        "id": "IfIpmTLchgPc",
        "outputId": "3da897cd-2466-4d05-fbc9-0a205dd416fa"
      },
      "execution_count": 31,
      "outputs": [
        {
          "output_type": "stream",
          "name": "stdout",
          "text": [
            "[0 1 2 3 4 5 6 7 8 9]\n",
            "[[ 0  1  2  3]\n",
            " [ 4  5  6  7]\n",
            " [ 8  9 10 11]]\n",
            "[[[0 1]\n",
            "  [2 3]]\n",
            "\n",
            " [[4 5]\n",
            "  [6 7]]]\n"
          ]
        }
      ]
    },
    {
      "cell_type": "code",
      "source": [
        "#Indexing\n",
        "print(a1[-1],a1[0])\n",
        "print(a2[1,2],a2[2,3],a2[1,0])\n",
        "print(a3[1,0,1],a3[0,0,0],a3[1,1,1])"
      ],
      "metadata": {
        "colab": {
          "base_uri": "https://localhost:8080/"
        },
        "id": "GA1G9dmRhuIR",
        "outputId": "a7da5115-58e0-4ced-c818-98f32b102b6d"
      },
      "execution_count": 32,
      "outputs": [
        {
          "output_type": "stream",
          "name": "stdout",
          "text": [
            "9 0\n",
            "6 11 4\n",
            "5 0 7\n"
          ]
        }
      ]
    },
    {
      "cell_type": "code",
      "source": [
        "#Slicing\n",
        "a1\n",
        "a1[2:5]\n",
        "a1[2:5:2]"
      ],
      "metadata": {
        "colab": {
          "base_uri": "https://localhost:8080/"
        },
        "id": "oKNr6fPRu34M",
        "outputId": "4705083e-772f-4816-e5cc-8d6f5b205e95"
      },
      "execution_count": 33,
      "outputs": [
        {
          "output_type": "execute_result",
          "data": {
            "text/plain": [
              "array([2, 4])"
            ]
          },
          "metadata": {},
          "execution_count": 33
        }
      ]
    },
    {
      "cell_type": "code",
      "source": [
        "a2"
      ],
      "metadata": {
        "colab": {
          "base_uri": "https://localhost:8080/"
        },
        "id": "4nB_LlW6u31l",
        "outputId": "ade544e7-98cc-4a29-b285-f4d886b4a864"
      },
      "execution_count": 34,
      "outputs": [
        {
          "output_type": "execute_result",
          "data": {
            "text/plain": [
              "array([[ 0,  1,  2,  3],\n",
              "       [ 4,  5,  6,  7],\n",
              "       [ 8,  9, 10, 11]])"
            ]
          },
          "metadata": {},
          "execution_count": 34
        }
      ]
    },
    {
      "cell_type": "code",
      "source": [
        "print(a2[0,:])\n",
        "print(a2[:,2])\n",
        "print(a2[1:,1:3]);\n",
        "print(a2[::2,::3])\n",
        "print(a2[::2,1::2])\n",
        "print(a2[1,::3])\n",
        "print(a2[0:2,1:])"
      ],
      "metadata": {
        "colab": {
          "base_uri": "https://localhost:8080/"
        },
        "id": "1O9d8Xrgu3zT",
        "outputId": "033418f8-6ddc-4eec-d3ea-5ba3f258ac48"
      },
      "execution_count": 35,
      "outputs": [
        {
          "output_type": "stream",
          "name": "stdout",
          "text": [
            "[0 1 2 3]\n",
            "[ 2  6 10]\n",
            "[[ 5  6]\n",
            " [ 9 10]]\n",
            "[[ 0  3]\n",
            " [ 8 11]]\n",
            "[[ 1  3]\n",
            " [ 9 11]]\n",
            "[4 7]\n",
            "[[1 2 3]\n",
            " [5 6 7]]\n"
          ]
        }
      ]
    },
    {
      "cell_type": "code",
      "source": [
        "a3 = np.arange(27).reshape(3,3,3)\n",
        "a3"
      ],
      "metadata": {
        "colab": {
          "base_uri": "https://localhost:8080/"
        },
        "id": "XajBs93su3sv",
        "outputId": "1f347d65-e4f7-4db8-c43c-85858e45dbb4"
      },
      "execution_count": 36,
      "outputs": [
        {
          "output_type": "execute_result",
          "data": {
            "text/plain": [
              "array([[[ 0,  1,  2],\n",
              "        [ 3,  4,  5],\n",
              "        [ 6,  7,  8]],\n",
              "\n",
              "       [[ 9, 10, 11],\n",
              "        [12, 13, 14],\n",
              "        [15, 16, 17]],\n",
              "\n",
              "       [[18, 19, 20],\n",
              "        [21, 22, 23],\n",
              "        [24, 25, 26]]])"
            ]
          },
          "metadata": {},
          "execution_count": 36
        }
      ]
    },
    {
      "cell_type": "code",
      "source": [
        "a3[1,:,:]\n",
        "a3[2,1,0:]\n",
        "a3[0:,0:,2:]\n",
        "a3[0::2]\n",
        "a3[0,1,:]\n",
        "a3[1,:,1]\n",
        "a3[2,1:,1:]\n",
        "a3[0::2,0,0::2]"
      ],
      "metadata": {
        "colab": {
          "base_uri": "https://localhost:8080/"
        },
        "id": "_SCjK8QQu3pr",
        "outputId": "ed2695f8-37f5-4870-d4b2-8d70b3ecbe60"
      },
      "execution_count": 37,
      "outputs": [
        {
          "output_type": "execute_result",
          "data": {
            "text/plain": [
              "array([[ 0,  2],\n",
              "       [18, 20]])"
            ]
          },
          "metadata": {},
          "execution_count": 37
        }
      ]
    },
    {
      "cell_type": "code",
      "source": [],
      "metadata": {
        "id": "G16dC8ee56yz"
      },
      "execution_count": 37,
      "outputs": []
    },
    {
      "cell_type": "markdown",
      "source": [
        "Iterating"
      ],
      "metadata": {
        "id": "m3OD7BSTtZw3"
      }
    },
    {
      "cell_type": "code",
      "source": [
        "a1\n",
        "a2\n",
        "a3"
      ],
      "metadata": {
        "id": "oaGDVQ3BtX00",
        "outputId": "ce55824f-20b1-4c4b-e4cc-99016801f49b",
        "colab": {
          "base_uri": "https://localhost:8080/"
        }
      },
      "execution_count": 38,
      "outputs": [
        {
          "output_type": "execute_result",
          "data": {
            "text/plain": [
              "array([[[ 0,  1,  2],\n",
              "        [ 3,  4,  5],\n",
              "        [ 6,  7,  8]],\n",
              "\n",
              "       [[ 9, 10, 11],\n",
              "        [12, 13, 14],\n",
              "        [15, 16, 17]],\n",
              "\n",
              "       [[18, 19, 20],\n",
              "        [21, 22, 23],\n",
              "        [24, 25, 26]]])"
            ]
          },
          "metadata": {},
          "execution_count": 38
        }
      ]
    },
    {
      "cell_type": "code",
      "source": [
        "for i in a1:\n",
        "    print(i,end=\" \")"
      ],
      "metadata": {
        "id": "mVKDvu8gtXye",
        "outputId": "7df47a82-d17f-4d04-cade-96d31aa6cc32",
        "colab": {
          "base_uri": "https://localhost:8080/"
        }
      },
      "execution_count": 39,
      "outputs": [
        {
          "output_type": "stream",
          "name": "stdout",
          "text": [
            "0 1 2 3 4 5 6 7 8 9 "
          ]
        }
      ]
    },
    {
      "cell_type": "code",
      "source": [
        "for i in a2:\n",
        "    print(i,end=\" \")"
      ],
      "metadata": {
        "id": "FqpNSU15tXwp",
        "outputId": "0c708357-8056-495b-e0f4-12e717accf5f",
        "colab": {
          "base_uri": "https://localhost:8080/"
        }
      },
      "execution_count": 40,
      "outputs": [
        {
          "output_type": "stream",
          "name": "stdout",
          "text": [
            "[0 1 2 3] [4 5 6 7] [ 8  9 10 11] "
          ]
        }
      ]
    },
    {
      "cell_type": "code",
      "source": [
        "for i in a3:\n",
        "    print(i,end=\"\\n\")"
      ],
      "metadata": {
        "id": "edRkFsFvtXuk",
        "outputId": "e7585011-d8fa-4dbc-beb9-24e95b0c794c",
        "colab": {
          "base_uri": "https://localhost:8080/"
        }
      },
      "execution_count": 41,
      "outputs": [
        {
          "output_type": "stream",
          "name": "stdout",
          "text": [
            "[[0 1 2]\n",
            " [3 4 5]\n",
            " [6 7 8]]\n",
            "[[ 9 10 11]\n",
            " [12 13 14]\n",
            " [15 16 17]]\n",
            "[[18 19 20]\n",
            " [21 22 23]\n",
            " [24 25 26]]\n"
          ]
        }
      ]
    },
    {
      "cell_type": "code",
      "source": [
        "for i in np.nditer(a3):\n",
        "    print(i,end=\" \")"
      ],
      "metadata": {
        "id": "z22vMK66tXqq",
        "outputId": "e5e7548f-0a6d-40e2-f2fa-a9f2f9368c15",
        "colab": {
          "base_uri": "https://localhost:8080/"
        }
      },
      "execution_count": 42,
      "outputs": [
        {
          "output_type": "stream",
          "name": "stdout",
          "text": [
            "0 1 2 3 4 5 6 7 8 9 10 11 12 13 14 15 16 17 18 19 20 21 22 23 24 25 26 "
          ]
        }
      ]
    },
    {
      "cell_type": "code",
      "source": [
        "\n",
        "a2"
      ],
      "metadata": {
        "id": "bKlohduTtXoU",
        "outputId": "0f816af0-6742-44a6-e47f-ff5fe51e619c",
        "colab": {
          "base_uri": "https://localhost:8080/"
        }
      },
      "execution_count": 43,
      "outputs": [
        {
          "output_type": "execute_result",
          "data": {
            "text/plain": [
              "array([[ 0,  1,  2,  3],\n",
              "       [ 4,  5,  6,  7],\n",
              "       [ 8,  9, 10, 11]])"
            ]
          },
          "metadata": {},
          "execution_count": 43
        }
      ]
    },
    {
      "cell_type": "markdown",
      "source": [
        "Transpose"
      ],
      "metadata": {
        "id": "TuFTd5hI1cBr"
      }
    },
    {
      "cell_type": "code",
      "source": [
        "#Transpose\n",
        "at = np.transpose(a2)\n",
        "a2.T"
      ],
      "metadata": {
        "id": "3hOeT-iZ1bT2",
        "outputId": "fc7c9963-aae2-4da1-d8da-96f08d68f694",
        "colab": {
          "base_uri": "https://localhost:8080/"
        }
      },
      "execution_count": 44,
      "outputs": [
        {
          "output_type": "execute_result",
          "data": {
            "text/plain": [
              "array([[ 0,  4,  8],\n",
              "       [ 1,  5,  9],\n",
              "       [ 2,  6, 10],\n",
              "       [ 3,  7, 11]])"
            ]
          },
          "metadata": {},
          "execution_count": 44
        }
      ]
    },
    {
      "cell_type": "code",
      "source": [
        "#ravel - converting any dimentional array in one-d array\n",
        "a2.ravel()\n",
        "a3.ravel()"
      ],
      "metadata": {
        "id": "SdAF66FMtXl-",
        "outputId": "34935304-a13e-41f0-ce47-3ffa45a2ad31",
        "colab": {
          "base_uri": "https://localhost:8080/"
        }
      },
      "execution_count": 45,
      "outputs": [
        {
          "output_type": "execute_result",
          "data": {
            "text/plain": [
              "array([ 0,  1,  2,  3,  4,  5,  6,  7,  8,  9, 10, 11, 12, 13, 14, 15, 16,\n",
              "       17, 18, 19, 20, 21, 22, 23, 24, 25, 26])"
            ]
          },
          "metadata": {},
          "execution_count": 45
        }
      ]
    },
    {
      "cell_type": "code",
      "source": [],
      "metadata": {
        "id": "ekKKAjEjtXjs"
      },
      "execution_count": 45,
      "outputs": []
    },
    {
      "cell_type": "markdown",
      "source": [
        "Stacking"
      ],
      "metadata": {
        "id": "GOOvURll3Pc1"
      }
    },
    {
      "cell_type": "code",
      "source": [
        "# Horizontal Stacking\n",
        "a4 = np.arange(12).reshape(3,4)\n",
        "a5 = np.arange(12,24).reshape(3,4)\n",
        "np.hstack((a4,a5,a4,a5))"
      ],
      "metadata": {
        "id": "JUlU2CpFtXUm",
        "outputId": "ec2400a4-8a75-483c-b257-88c7f12ac6e2",
        "colab": {
          "base_uri": "https://localhost:8080/"
        }
      },
      "execution_count": 46,
      "outputs": [
        {
          "output_type": "execute_result",
          "data": {
            "text/plain": [
              "array([[ 0,  1,  2,  3, 12, 13, 14, 15,  0,  1,  2,  3, 12, 13, 14, 15],\n",
              "       [ 4,  5,  6,  7, 16, 17, 18, 19,  4,  5,  6,  7, 16, 17, 18, 19],\n",
              "       [ 8,  9, 10, 11, 20, 21, 22, 23,  8,  9, 10, 11, 20, 21, 22, 23]])"
            ]
          },
          "metadata": {},
          "execution_count": 46
        }
      ]
    },
    {
      "cell_type": "code",
      "source": [
        "# Vertical Stacking\n",
        "va1 = np.vstack((a4,a5,a4,a5))\n",
        "va1"
      ],
      "metadata": {
        "id": "TA9zgHkK3ZAD",
        "outputId": "e18abf3f-feb9-481d-9a88-700c729a168c",
        "colab": {
          "base_uri": "https://localhost:8080/"
        }
      },
      "execution_count": 47,
      "outputs": [
        {
          "output_type": "execute_result",
          "data": {
            "text/plain": [
              "array([[ 0,  1,  2,  3],\n",
              "       [ 4,  5,  6,  7],\n",
              "       [ 8,  9, 10, 11],\n",
              "       [12, 13, 14, 15],\n",
              "       [16, 17, 18, 19],\n",
              "       [20, 21, 22, 23],\n",
              "       [ 0,  1,  2,  3],\n",
              "       [ 4,  5,  6,  7],\n",
              "       [ 8,  9, 10, 11],\n",
              "       [12, 13, 14, 15],\n",
              "       [16, 17, 18, 19],\n",
              "       [20, 21, 22, 23]])"
            ]
          },
          "metadata": {},
          "execution_count": 47
        }
      ]
    },
    {
      "cell_type": "markdown",
      "source": [
        "Splitting"
      ],
      "metadata": {
        "id": "T_hAsTx_4tij"
      }
    },
    {
      "cell_type": "code",
      "source": [
        "# Horizontal Splitting\n",
        "a4\n",
        "hsa = np.hsplit(a4,2)\n",
        "print(hsa[0])\n",
        "print(hsa[1])"
      ],
      "metadata": {
        "id": "mY7QXpRU39k3",
        "outputId": "4f6aa07e-42c9-471a-ef46-668778dfa814",
        "colab": {
          "base_uri": "https://localhost:8080/"
        }
      },
      "execution_count": 48,
      "outputs": [
        {
          "output_type": "stream",
          "name": "stdout",
          "text": [
            "[[0 1]\n",
            " [4 5]\n",
            " [8 9]]\n",
            "[[ 2  3]\n",
            " [ 6  7]\n",
            " [10 11]]\n"
          ]
        }
      ]
    },
    {
      "cell_type": "code",
      "source": [
        "# Vertical Splitting\n",
        "print(np.vsplit(a4,3))\n",
        "np.vsplit(va1,4)"
      ],
      "metadata": {
        "id": "wT1adhBJ43HV",
        "outputId": "c5a065fa-5616-4101-ae69-65d5ca4cd5d5",
        "colab": {
          "base_uri": "https://localhost:8080/"
        }
      },
      "execution_count": 49,
      "outputs": [
        {
          "output_type": "stream",
          "name": "stdout",
          "text": [
            "[array([[0, 1, 2, 3]]), array([[4, 5, 6, 7]]), array([[ 8,  9, 10, 11]])]\n"
          ]
        },
        {
          "output_type": "execute_result",
          "data": {
            "text/plain": [
              "[array([[ 0,  1,  2,  3],\n",
              "        [ 4,  5,  6,  7],\n",
              "        [ 8,  9, 10, 11]]),\n",
              " array([[12, 13, 14, 15],\n",
              "        [16, 17, 18, 19],\n",
              "        [20, 21, 22, 23]]),\n",
              " array([[ 0,  1,  2,  3],\n",
              "        [ 4,  5,  6,  7],\n",
              "        [ 8,  9, 10, 11]]),\n",
              " array([[12, 13, 14, 15],\n",
              "        [16, 17, 18, 19],\n",
              "        [20, 21, 22, 23]])]"
            ]
          },
          "metadata": {},
          "execution_count": 49
        }
      ]
    },
    {
      "cell_type": "code",
      "source": [],
      "metadata": {
        "id": "Jcj2Lo8O45L5"
      },
      "execution_count": 49,
      "outputs": []
    }
  ]
}