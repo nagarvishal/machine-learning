{
 "cells": [
  {
   "cell_type": "code",
   "execution_count": 2,
   "metadata": {},
   "outputs": [],
   "source": [
    "import numpy as np\n",
    "import pandas as pd"
   ]
  },
  {
   "cell_type": "code",
   "execution_count": 3,
   "metadata": {},
   "outputs": [],
   "source": [
    "walmart = pd.read_csv(\"../files/archive/WMT_1970-10-01_2025-01-31.csv\")"
   ]
  },
  {
   "cell_type": "code",
   "execution_count": 4,
   "metadata": {},
   "outputs": [
    {
     "data": {
      "application/vnd.microsoft.datawrangler.viewer.v0+json": {
       "columns": [
        {
         "name": "index",
         "rawType": "int64",
         "type": "integer"
        },
        {
         "name": "Date",
         "rawType": "object",
         "type": "string"
        },
        {
         "name": "Open",
         "rawType": "float64",
         "type": "float"
        },
        {
         "name": "High",
         "rawType": "float64",
         "type": "float"
        },
        {
         "name": "Low",
         "rawType": "float64",
         "type": "float"
        },
        {
         "name": "Close",
         "rawType": "float64",
         "type": "float"
        },
        {
         "name": "Adj Close",
         "rawType": "float64",
         "type": "float"
        },
        {
         "name": "Volume",
         "rawType": "int64",
         "type": "integer"
        }
       ],
       "conversionMethod": "pd.DataFrame",
       "ref": "05f942df-cc89-41ff-b243-4e4c6749d50e",
       "rows": [
        [
         "0",
         "1972-08-25",
         "0.0211590006947517",
         "0.0215659998357296",
         "0.0211590006947517",
         "0.021484000608325",
         "0.0116386683657765",
         "7526400"
        ],
        [
         "1",
         "1972-08-28",
         "0.021484000608325",
         "0.0216470006853342",
         "0.0214029997587203",
         "0.0214029997587203",
         "0.0115947816520929",
         "2918400"
        ],
        [
         "2",
         "1972-08-29",
         "0.0213220007717609",
         "0.0213220007717609",
         "0.0211590006947517",
         "0.0211590006947517",
         "0.0114626018330454",
         "5836800"
        ],
        [
         "3",
         "1972-08-30",
         "0.0211590006947517",
         "0.0211590006947517",
         "0.0209960006177425",
         "0.0211590006947517",
         "0.0114626018330454",
         "1228800"
        ],
        [
         "4",
         "1972-08-31",
         "0.0209960006177425",
         "0.0209960006177425",
         "0.0208330005407333",
         "0.0208330005407333",
         "0.0112859988585114",
         "2611200"
        ]
       ],
       "shape": {
        "columns": 7,
        "rows": 5
       }
      },
      "text/html": [
       "<div>\n",
       "<style scoped>\n",
       "    .dataframe tbody tr th:only-of-type {\n",
       "        vertical-align: middle;\n",
       "    }\n",
       "\n",
       "    .dataframe tbody tr th {\n",
       "        vertical-align: top;\n",
       "    }\n",
       "\n",
       "    .dataframe thead th {\n",
       "        text-align: right;\n",
       "    }\n",
       "</style>\n",
       "<table border=\"1\" class=\"dataframe\">\n",
       "  <thead>\n",
       "    <tr style=\"text-align: right;\">\n",
       "      <th></th>\n",
       "      <th>Date</th>\n",
       "      <th>Open</th>\n",
       "      <th>High</th>\n",
       "      <th>Low</th>\n",
       "      <th>Close</th>\n",
       "      <th>Adj Close</th>\n",
       "      <th>Volume</th>\n",
       "    </tr>\n",
       "  </thead>\n",
       "  <tbody>\n",
       "    <tr>\n",
       "      <th>0</th>\n",
       "      <td>1972-08-25</td>\n",
       "      <td>0.021159</td>\n",
       "      <td>0.021566</td>\n",
       "      <td>0.021159</td>\n",
       "      <td>0.021484</td>\n",
       "      <td>0.011639</td>\n",
       "      <td>7526400</td>\n",
       "    </tr>\n",
       "    <tr>\n",
       "      <th>1</th>\n",
       "      <td>1972-08-28</td>\n",
       "      <td>0.021484</td>\n",
       "      <td>0.021647</td>\n",
       "      <td>0.021403</td>\n",
       "      <td>0.021403</td>\n",
       "      <td>0.011595</td>\n",
       "      <td>2918400</td>\n",
       "    </tr>\n",
       "    <tr>\n",
       "      <th>2</th>\n",
       "      <td>1972-08-29</td>\n",
       "      <td>0.021322</td>\n",
       "      <td>0.021322</td>\n",
       "      <td>0.021159</td>\n",
       "      <td>0.021159</td>\n",
       "      <td>0.011463</td>\n",
       "      <td>5836800</td>\n",
       "    </tr>\n",
       "    <tr>\n",
       "      <th>3</th>\n",
       "      <td>1972-08-30</td>\n",
       "      <td>0.021159</td>\n",
       "      <td>0.021159</td>\n",
       "      <td>0.020996</td>\n",
       "      <td>0.021159</td>\n",
       "      <td>0.011463</td>\n",
       "      <td>1228800</td>\n",
       "    </tr>\n",
       "    <tr>\n",
       "      <th>4</th>\n",
       "      <td>1972-08-31</td>\n",
       "      <td>0.020996</td>\n",
       "      <td>0.020996</td>\n",
       "      <td>0.020833</td>\n",
       "      <td>0.020833</td>\n",
       "      <td>0.011286</td>\n",
       "      <td>2611200</td>\n",
       "    </tr>\n",
       "  </tbody>\n",
       "</table>\n",
       "</div>"
      ],
      "text/plain": [
       "         Date      Open      High       Low     Close  Adj Close   Volume\n",
       "0  1972-08-25  0.021159  0.021566  0.021159  0.021484   0.011639  7526400\n",
       "1  1972-08-28  0.021484  0.021647  0.021403  0.021403   0.011595  2918400\n",
       "2  1972-08-29  0.021322  0.021322  0.021159  0.021159   0.011463  5836800\n",
       "3  1972-08-30  0.021159  0.021159  0.020996  0.021159   0.011463  1228800\n",
       "4  1972-08-31  0.020996  0.020996  0.020833  0.020833   0.011286  2611200"
      ]
     },
     "execution_count": 4,
     "metadata": {},
     "output_type": "execute_result"
    }
   ],
   "source": [
    "walmart.head()"
   ]
  },
  {
   "cell_type": "code",
   "execution_count": null,
   "metadata": {},
   "outputs": [],
   "source": []
  }
 ],
 "metadata": {
  "kernelspec": {
   "display_name": "Python [conda env:base] *",
   "language": "python",
   "name": "conda-base-py"
  },
  "language_info": {
   "codemirror_mode": {
    "name": "ipython",
    "version": 3
   },
   "file_extension": ".py",
   "mimetype": "text/x-python",
   "name": "python",
   "nbconvert_exporter": "python",
   "pygments_lexer": "ipython3",
   "version": "3.12.7"
  }
 },
 "nbformat": 4,
 "nbformat_minor": 4
}
